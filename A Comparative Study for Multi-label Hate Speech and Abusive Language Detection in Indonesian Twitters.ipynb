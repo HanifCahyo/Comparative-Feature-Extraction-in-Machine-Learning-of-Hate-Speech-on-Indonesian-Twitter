{
 "cells": [
  {
   "cell_type": "markdown",
   "id": "e1290404-ea85-42eb-8bb6-3653fa1fe669",
   "metadata": {},
   "source": [
    "# Machine Learning - Kelas A11.44UG1\r",
    "A Comparative Study for Multi-label Hate Speech and Abusive Language Detection in Indonesian Twitters\r\n",
    "Hanif Cahyo Prasetyodi A11.2022.14075041"
   ]
  },
  {
   "cell_type": "markdown",
   "id": "f9fc14ed-a933-4b52-be02-3054cb523484",
   "metadata": {},
   "source": [
    "## Import Library"
   ]
  },
  {
   "cell_type": "code",
   "execution_count": 3,
   "id": "a9760be0-cb29-4ed0-8ff3-97aeac4b300e",
   "metadata": {},
   "outputs": [
    {
     "name": "stdout",
     "output_type": "stream",
     "text": [
      "Requirement already satisfied: PySastrawi in c:\\users\\hanif\\anaconda3\\lib\\site-packages (1.2.0)\n"
     ]
    }
   ],
   "source": [
    "!pip install PySastrawi"
   ]
  },
  {
   "cell_type": "code",
   "execution_count": 4,
   "id": "2d3d44b8-0b75-4952-ae00-cb094b1aa79d",
   "metadata": {},
   "outputs": [],
   "source": [
    "import numpy as np\n",
    "import pandas as pd\n",
    "import matplotlib.pyplot as plt\n",
    "import seaborn as sns\n",
    "from collections import Counter, OrderedDict\n",
    "\n",
    "import matplotlib.pyplot as plt\n",
    "import seaborn as sns\n",
    "from wordcloud import WordCloud\n",
    "\n",
    "from sklearn.feature_extraction.text import TfidfVectorizer\n",
    "\n",
    "from sklearn.model_selection import train_test_split\n",
    "from sklearn.metrics import f1_score, classification_report\n",
    "\n",
    "from sklearn.neighbors import KNeighborsClassifier\n",
    "from sklearn.linear_model import LogisticRegression\n",
    "from sklearn.svm import SVC\n",
    "from sklearn.naive_bayes import ComplementNB, BernoulliNB\n",
    "from sklearn.tree import DecisionTreeClassifier\n",
    "from sklearn.ensemble import RandomForestClassifier\n",
    "\n",
    "import warnings\n",
    "warnings.filterwarnings(\"ignore\")"
   ]
  },
  {
   "cell_type": "code",
   "execution_count": 5,
   "id": "0bca8c5f-26ce-4ea8-9df7-b35adfca62a2",
   "metadata": {},
   "outputs": [],
   "source": [
    "data = pd.read_csv('datasets/data.csv', encoding='latin-1')\n",
    "\n",
    "alay_dict = pd.read_csv('datasets/new_kamusalay.csv', encoding='latin-1', header=None)\n",
    "\n",
    "id_stopword_dict = pd.read_csv('datasets/stopwordbahasa.csv', header=None)\n",
    "id_stopword_dict = id_stopword_dict.rename(columns={0: 'stopword'})\n",
    "\n",
    "abusive_dict = pd.read_csv('datasets/abusive.csv')['ABUSIVE'].tolist()"
   ]
  },
  {
   "cell_type": "markdown",
   "id": "82a5b92c-ca81-4f74-ac64-a587a9321040",
   "metadata": {},
   "source": [
    "## Data Shape"
   ]
  },
  {
   "cell_type": "code",
   "execution_count": 7,
   "id": "42894ae9-b479-4857-93c9-8a6fc4f89798",
   "metadata": {},
   "outputs": [
    {
     "name": "stdout",
     "output_type": "stream",
     "text": [
      "Shape:  (13169, 13)\n"
     ]
    },
    {
     "data": {
      "text/html": [
       "<div>\n",
       "<style scoped>\n",
       "    .dataframe tbody tr th:only-of-type {\n",
       "        vertical-align: middle;\n",
       "    }\n",
       "\n",
       "    .dataframe tbody tr th {\n",
       "        vertical-align: top;\n",
       "    }\n",
       "\n",
       "    .dataframe thead th {\n",
       "        text-align: right;\n",
       "    }\n",
       "</style>\n",
       "<table border=\"1\" class=\"dataframe\">\n",
       "  <thead>\n",
       "    <tr style=\"text-align: right;\">\n",
       "      <th></th>\n",
       "      <th>Tweet</th>\n",
       "      <th>HS</th>\n",
       "      <th>Abusive</th>\n",
       "      <th>HS_Individual</th>\n",
       "      <th>HS_Group</th>\n",
       "      <th>HS_Religion</th>\n",
       "      <th>HS_Race</th>\n",
       "      <th>HS_Physical</th>\n",
       "      <th>HS_Gender</th>\n",
       "      <th>HS_Other</th>\n",
       "      <th>HS_Weak</th>\n",
       "      <th>HS_Moderate</th>\n",
       "      <th>HS_Strong</th>\n",
       "    </tr>\n",
       "  </thead>\n",
       "  <tbody>\n",
       "    <tr>\n",
       "      <th>0</th>\n",
       "      <td>- disaat semua cowok berusaha melacak perhatia...</td>\n",
       "      <td>1</td>\n",
       "      <td>1</td>\n",
       "      <td>1</td>\n",
       "      <td>0</td>\n",
       "      <td>0</td>\n",
       "      <td>0</td>\n",
       "      <td>0</td>\n",
       "      <td>0</td>\n",
       "      <td>1</td>\n",
       "      <td>1</td>\n",
       "      <td>0</td>\n",
       "      <td>0</td>\n",
       "    </tr>\n",
       "    <tr>\n",
       "      <th>1</th>\n",
       "      <td>RT USER: USER siapa yang telat ngasih tau elu?...</td>\n",
       "      <td>0</td>\n",
       "      <td>1</td>\n",
       "      <td>0</td>\n",
       "      <td>0</td>\n",
       "      <td>0</td>\n",
       "      <td>0</td>\n",
       "      <td>0</td>\n",
       "      <td>0</td>\n",
       "      <td>0</td>\n",
       "      <td>0</td>\n",
       "      <td>0</td>\n",
       "      <td>0</td>\n",
       "    </tr>\n",
       "    <tr>\n",
       "      <th>2</th>\n",
       "      <td>41. Kadang aku berfikir, kenapa aku tetap perc...</td>\n",
       "      <td>0</td>\n",
       "      <td>0</td>\n",
       "      <td>0</td>\n",
       "      <td>0</td>\n",
       "      <td>0</td>\n",
       "      <td>0</td>\n",
       "      <td>0</td>\n",
       "      <td>0</td>\n",
       "      <td>0</td>\n",
       "      <td>0</td>\n",
       "      <td>0</td>\n",
       "      <td>0</td>\n",
       "    </tr>\n",
       "    <tr>\n",
       "      <th>3</th>\n",
       "      <td>USER USER AKU ITU AKU\\n\\nKU TAU MATAMU SIPIT T...</td>\n",
       "      <td>0</td>\n",
       "      <td>0</td>\n",
       "      <td>0</td>\n",
       "      <td>0</td>\n",
       "      <td>0</td>\n",
       "      <td>0</td>\n",
       "      <td>0</td>\n",
       "      <td>0</td>\n",
       "      <td>0</td>\n",
       "      <td>0</td>\n",
       "      <td>0</td>\n",
       "      <td>0</td>\n",
       "    </tr>\n",
       "    <tr>\n",
       "      <th>4</th>\n",
       "      <td>USER USER Kaum cebong kapir udah keliatan dong...</td>\n",
       "      <td>1</td>\n",
       "      <td>1</td>\n",
       "      <td>0</td>\n",
       "      <td>1</td>\n",
       "      <td>1</td>\n",
       "      <td>0</td>\n",
       "      <td>0</td>\n",
       "      <td>0</td>\n",
       "      <td>0</td>\n",
       "      <td>0</td>\n",
       "      <td>1</td>\n",
       "      <td>0</td>\n",
       "    </tr>\n",
       "  </tbody>\n",
       "</table>\n",
       "</div>"
      ],
      "text/plain": [
       "                                               Tweet  HS  Abusive  \\\n",
       "0  - disaat semua cowok berusaha melacak perhatia...   1        1   \n",
       "1  RT USER: USER siapa yang telat ngasih tau elu?...   0        1   \n",
       "2  41. Kadang aku berfikir, kenapa aku tetap perc...   0        0   \n",
       "3  USER USER AKU ITU AKU\\n\\nKU TAU MATAMU SIPIT T...   0        0   \n",
       "4  USER USER Kaum cebong kapir udah keliatan dong...   1        1   \n",
       "\n",
       "   HS_Individual  HS_Group  HS_Religion  HS_Race  HS_Physical  HS_Gender  \\\n",
       "0              1         0            0        0            0          0   \n",
       "1              0         0            0        0            0          0   \n",
       "2              0         0            0        0            0          0   \n",
       "3              0         0            0        0            0          0   \n",
       "4              0         1            1        0            0          0   \n",
       "\n",
       "   HS_Other  HS_Weak  HS_Moderate  HS_Strong  \n",
       "0         1        1            0          0  \n",
       "1         0        0            0          0  \n",
       "2         0        0            0          0  \n",
       "3         0        0            0          0  \n",
       "4         0        0            1          0  "
      ]
     },
     "execution_count": 7,
     "metadata": {},
     "output_type": "execute_result"
    }
   ],
   "source": [
    "print(\"Shape: \", data.shape)\n",
    "data.head(5)"
   ]
  },
  {
   "cell_type": "code",
   "execution_count": 8,
   "id": "b3581932-b7ba-4995-bb5a-c0a78e21eb16",
   "metadata": {},
   "outputs": [
    {
     "data": {
      "text/plain": [
       "HS\n",
       "0    7608\n",
       "1    5561\n",
       "Name: count, dtype: int64"
      ]
     },
     "execution_count": 8,
     "metadata": {},
     "output_type": "execute_result"
    }
   ],
   "source": [
    "data.HS.value_counts()"
   ]
  },
  {
   "cell_type": "code",
   "execution_count": 9,
   "id": "ff5aac5b-47ee-478d-b9a9-16f75b482b04",
   "metadata": {},
   "outputs": [
    {
     "data": {
      "text/plain": [
       "Abusive\n",
       "0    8126\n",
       "1    5043\n",
       "Name: count, dtype: int64"
      ]
     },
     "execution_count": 9,
     "metadata": {},
     "output_type": "execute_result"
    }
   ],
   "source": [
    "data.Abusive.value_counts()"
   ]
  },
  {
   "cell_type": "code",
   "execution_count": 10,
   "id": "0678e5f7-95af-4ced-bf9a-26990044bf45",
   "metadata": {},
   "outputs": [
    {
     "name": "stdout",
     "output_type": "stream",
     "text": [
      "Toxic shape:  (7309, 13)\n",
      "Non-toxic shape:  (5860, 13)\n"
     ]
    }
   ],
   "source": [
    "print(\"Toxic shape: \", data[(data['HS'] == 1) | (data['Abusive'] == 1)].shape)\n",
    "print(\"Non-toxic shape: \", data[(data['HS'] == 0) & (data['Abusive'] == 0)].shape)"
   ]
  },
  {
   "cell_type": "markdown",
   "id": "ea2043f8-10b2-43a5-94bc-8427ff6176be",
   "metadata": {},
   "source": [
    "Alay Dict"
   ]
  },
  {
   "cell_type": "code",
   "execution_count": 12,
   "id": "10f83638-3167-4571-bdca-394f9db091bf",
   "metadata": {},
   "outputs": [
    {
     "name": "stdout",
     "output_type": "stream",
     "text": [
      "Shape:  (15167, 2)\n"
     ]
    },
    {
     "data": {
      "text/html": [
       "<div>\n",
       "<style scoped>\n",
       "    .dataframe tbody tr th:only-of-type {\n",
       "        vertical-align: middle;\n",
       "    }\n",
       "\n",
       "    .dataframe tbody tr th {\n",
       "        vertical-align: top;\n",
       "    }\n",
       "\n",
       "    .dataframe thead th {\n",
       "        text-align: right;\n",
       "    }\n",
       "</style>\n",
       "<table border=\"1\" class=\"dataframe\">\n",
       "  <thead>\n",
       "    <tr style=\"text-align: right;\">\n",
       "      <th></th>\n",
       "      <th>0</th>\n",
       "      <th>1</th>\n",
       "    </tr>\n",
       "  </thead>\n",
       "  <tbody>\n",
       "    <tr>\n",
       "      <th>0</th>\n",
       "      <td>anakjakartaasikasik</td>\n",
       "      <td>anak jakarta asyik asyik</td>\n",
       "    </tr>\n",
       "    <tr>\n",
       "      <th>1</th>\n",
       "      <td>pakcikdahtua</td>\n",
       "      <td>pak cik sudah tua</td>\n",
       "    </tr>\n",
       "    <tr>\n",
       "      <th>2</th>\n",
       "      <td>pakcikmudalagi</td>\n",
       "      <td>pak cik muda lagi</td>\n",
       "    </tr>\n",
       "    <tr>\n",
       "      <th>3</th>\n",
       "      <td>t3tapjokowi</td>\n",
       "      <td>tetap jokowi</td>\n",
       "    </tr>\n",
       "    <tr>\n",
       "      <th>4</th>\n",
       "      <td>3x</td>\n",
       "      <td>tiga kali</td>\n",
       "    </tr>\n",
       "    <tr>\n",
       "      <th>5</th>\n",
       "      <td>aamiin</td>\n",
       "      <td>amin</td>\n",
       "    </tr>\n",
       "    <tr>\n",
       "      <th>6</th>\n",
       "      <td>aamiinn</td>\n",
       "      <td>amin</td>\n",
       "    </tr>\n",
       "    <tr>\n",
       "      <th>7</th>\n",
       "      <td>aamin</td>\n",
       "      <td>amin</td>\n",
       "    </tr>\n",
       "    <tr>\n",
       "      <th>8</th>\n",
       "      <td>aammiin</td>\n",
       "      <td>amin</td>\n",
       "    </tr>\n",
       "    <tr>\n",
       "      <th>9</th>\n",
       "      <td>abis</td>\n",
       "      <td>habis</td>\n",
       "    </tr>\n",
       "    <tr>\n",
       "      <th>10</th>\n",
       "      <td>abisin</td>\n",
       "      <td>habiskan</td>\n",
       "    </tr>\n",
       "    <tr>\n",
       "      <th>11</th>\n",
       "      <td>acau</td>\n",
       "      <td>kacau</td>\n",
       "    </tr>\n",
       "    <tr>\n",
       "      <th>12</th>\n",
       "      <td>achok</td>\n",
       "      <td>ahok</td>\n",
       "    </tr>\n",
       "    <tr>\n",
       "      <th>13</th>\n",
       "      <td>ad</td>\n",
       "      <td>ada</td>\n",
       "    </tr>\n",
       "    <tr>\n",
       "      <th>14</th>\n",
       "      <td>adek</td>\n",
       "      <td>adik</td>\n",
       "    </tr>\n",
       "  </tbody>\n",
       "</table>\n",
       "</div>"
      ],
      "text/plain": [
       "                      0                         1\n",
       "0   anakjakartaasikasik  anak jakarta asyik asyik\n",
       "1          pakcikdahtua         pak cik sudah tua\n",
       "2        pakcikmudalagi         pak cik muda lagi\n",
       "3           t3tapjokowi              tetap jokowi\n",
       "4                    3x                 tiga kali\n",
       "5                aamiin                      amin\n",
       "6               aamiinn                      amin\n",
       "7                 aamin                      amin\n",
       "8               aammiin                      amin\n",
       "9                  abis                     habis\n",
       "10               abisin                  habiskan\n",
       "11                 acau                     kacau\n",
       "12                achok                      ahok\n",
       "13                   ad                       ada\n",
       "14                 adek                      adik"
      ]
     },
     "execution_count": 12,
     "metadata": {},
     "output_type": "execute_result"
    }
   ],
   "source": [
    "print(\"Shape: \", alay_dict.shape)\n",
    "alay_dict.head(15)"
   ]
  },
  {
   "cell_type": "markdown",
   "id": "471e3457-68d4-4f4a-9c4b-678a81b8923a",
   "metadata": {},
   "source": [
    "ID Stopword"
   ]
  },
  {
   "cell_type": "code",
   "execution_count": 14,
   "id": "f35621bd-218e-43a5-abd7-e471993c727d",
   "metadata": {},
   "outputs": [
    {
     "name": "stdout",
     "output_type": "stream",
     "text": [
      "Shape:  (758, 1)\n"
     ]
    },
    {
     "data": {
      "text/html": [
       "<div>\n",
       "<style scoped>\n",
       "    .dataframe tbody tr th:only-of-type {\n",
       "        vertical-align: middle;\n",
       "    }\n",
       "\n",
       "    .dataframe tbody tr th {\n",
       "        vertical-align: top;\n",
       "    }\n",
       "\n",
       "    .dataframe thead th {\n",
       "        text-align: right;\n",
       "    }\n",
       "</style>\n",
       "<table border=\"1\" class=\"dataframe\">\n",
       "  <thead>\n",
       "    <tr style=\"text-align: right;\">\n",
       "      <th></th>\n",
       "      <th>stopword</th>\n",
       "    </tr>\n",
       "  </thead>\n",
       "  <tbody>\n",
       "    <tr>\n",
       "      <th>0</th>\n",
       "      <td>ada</td>\n",
       "    </tr>\n",
       "    <tr>\n",
       "      <th>1</th>\n",
       "      <td>adalah</td>\n",
       "    </tr>\n",
       "    <tr>\n",
       "      <th>2</th>\n",
       "      <td>adanya</td>\n",
       "    </tr>\n",
       "    <tr>\n",
       "      <th>3</th>\n",
       "      <td>adapun</td>\n",
       "    </tr>\n",
       "    <tr>\n",
       "      <th>4</th>\n",
       "      <td>agak</td>\n",
       "    </tr>\n",
       "  </tbody>\n",
       "</table>\n",
       "</div>"
      ],
      "text/plain": [
       "  stopword\n",
       "0      ada\n",
       "1   adalah\n",
       "2   adanya\n",
       "3   adapun\n",
       "4     agak"
      ]
     },
     "execution_count": 14,
     "metadata": {},
     "output_type": "execute_result"
    }
   ],
   "source": [
    "print(\"Shape: \", id_stopword_dict.shape)\n",
    "id_stopword_dict.head()"
   ]
  },
  {
   "cell_type": "markdown",
   "id": "2118b583-0ea3-4bbf-bfe3-118b6f9941fa",
   "metadata": {},
   "source": [
    "## Preprocess Data"
   ]
  },
  {
   "cell_type": "code",
   "execution_count": 16,
   "id": "26bc2d3c-f784-44fa-b12e-ec877718de1a",
   "metadata": {},
   "outputs": [
    {
     "data": {
      "text/html": [
       "<div>\n",
       "<style scoped>\n",
       "    .dataframe tbody tr th:only-of-type {\n",
       "        vertical-align: middle;\n",
       "    }\n",
       "\n",
       "    .dataframe tbody tr th {\n",
       "        vertical-align: top;\n",
       "    }\n",
       "\n",
       "    .dataframe thead th {\n",
       "        text-align: right;\n",
       "    }\n",
       "</style>\n",
       "<table border=\"1\" class=\"dataframe\">\n",
       "  <thead>\n",
       "    <tr style=\"text-align: right;\">\n",
       "      <th></th>\n",
       "      <th>0</th>\n",
       "      <th>1</th>\n",
       "    </tr>\n",
       "  </thead>\n",
       "  <tbody>\n",
       "    <tr>\n",
       "      <th>0</th>\n",
       "      <td>anakjakartaasikasik</td>\n",
       "      <td>anak jakarta asyik asyik</td>\n",
       "    </tr>\n",
       "    <tr>\n",
       "      <th>1</th>\n",
       "      <td>pakcikdahtua</td>\n",
       "      <td>pak cik sudah tua</td>\n",
       "    </tr>\n",
       "    <tr>\n",
       "      <th>2</th>\n",
       "      <td>pakcikmudalagi</td>\n",
       "      <td>pak cik muda lagi</td>\n",
       "    </tr>\n",
       "    <tr>\n",
       "      <th>3</th>\n",
       "      <td>t3tapjokowi</td>\n",
       "      <td>tetap jokowi</td>\n",
       "    </tr>\n",
       "    <tr>\n",
       "      <th>4</th>\n",
       "      <td>3x</td>\n",
       "      <td>tiga kali</td>\n",
       "    </tr>\n",
       "    <tr>\n",
       "      <th>...</th>\n",
       "      <td>...</td>\n",
       "      <td>...</td>\n",
       "    </tr>\n",
       "    <tr>\n",
       "      <th>15162</th>\n",
       "      <td>mendikbud</td>\n",
       "      <td>menteri pendidikan dan kebudayaan</td>\n",
       "    </tr>\n",
       "    <tr>\n",
       "      <th>15163</th>\n",
       "      <td>mendag</td>\n",
       "      <td>menteri perdagangan</td>\n",
       "    </tr>\n",
       "    <tr>\n",
       "      <th>15164</th>\n",
       "      <td>menaker</td>\n",
       "      <td>menteri tenaga kerja</td>\n",
       "    </tr>\n",
       "    <tr>\n",
       "      <th>15165</th>\n",
       "      <td>memetwit</td>\n",
       "      <td>mentwit</td>\n",
       "    </tr>\n",
       "    <tr>\n",
       "      <th>15166</th>\n",
       "      <td>megangin</td>\n",
       "      <td>memegang</td>\n",
       "    </tr>\n",
       "  </tbody>\n",
       "</table>\n",
       "<p>15167 rows × 2 columns</p>\n",
       "</div>"
      ],
      "text/plain": [
       "                         0                                  1\n",
       "0      anakjakartaasikasik           anak jakarta asyik asyik\n",
       "1             pakcikdahtua                  pak cik sudah tua\n",
       "2           pakcikmudalagi                  pak cik muda lagi\n",
       "3              t3tapjokowi                       tetap jokowi\n",
       "4                       3x                          tiga kali\n",
       "...                    ...                                ...\n",
       "15162            mendikbud  menteri pendidikan dan kebudayaan\n",
       "15163               mendag                menteri perdagangan\n",
       "15164              menaker               menteri tenaga kerja\n",
       "15165             memetwit                            mentwit\n",
       "15166             megangin                           memegang\n",
       "\n",
       "[15167 rows x 2 columns]"
      ]
     },
     "execution_count": 16,
     "metadata": {},
     "output_type": "execute_result"
    }
   ],
   "source": [
    "alay_dict"
   ]
  },
  {
   "cell_type": "code",
   "execution_count": 17,
   "id": "1f5febdb-79e7-4df2-aef0-d4e34c39122b",
   "metadata": {},
   "outputs": [],
   "source": [
    "import re\n",
    "import unicodedata\n",
    "from Sastrawi.Stemmer.StemmerFactory import StemmerFactory\n",
    "factory = StemmerFactory()\n",
    "stemmer = factory.create_stemmer()\n",
    "\n",
    "def lowercase(text):\n",
    "    return text.lower()\n",
    "\n",
    "def remove_unnecessary_char(text):\n",
    "    text = re.sub('\\n',' ',text) # Remove every '\\n'\n",
    "    text = re.sub('rt',' ',text) # Remove every retweet symbol\n",
    "    text = re.sub('user',' ',text) # Remove every username\n",
    "    text = re.sub('((www\\.[^\\s]+)|(https?://[^\\s]+)|(http?://[^\\s]+))',' ',text) # Remove every URL\n",
    "    text = re.sub('  +', ' ', text) # Remove extra spaces\n",
    "    return text\n",
    "\n",
    "def remove_unicode(text):\n",
    "    text = re.sub(r'\\bx[a-fA-F0-9]{2}\\b', '', text) \n",
    "    text = re.sub(r'\\bx([a-fA-F0-9]{2})', '', text)\n",
    "    return text\n",
    "    \n",
    "def remove_nonaplhanumeric(text):\n",
    "    text = re.sub('[^0-9a-zA-Z]+', ' ', text) \n",
    "    return text\n",
    "\n",
    "alay_dict_map = dict(zip(alay_dict[0], alay_dict[1]))\n",
    "def normalize_alay(text):\n",
    "    return ' '.join([alay_dict_map[word] if word in alay_dict_map else word for word in text.split(' ')])\n",
    "\n",
    "def remove_stopword(text):\n",
    "    text = ' '.join(['' if word in id_stopword_dict.stopword.values else word for word in text.split(' ')])\n",
    "    text = re.sub('  +', ' ', text) # Remove extra spaces\n",
    "    text = text.strip()\n",
    "    return text\n",
    "\n",
    "def stemming(text):\n",
    "    return stemmer.stem(text)\n",
    "\n",
    "def remove_extra_spaces(text):\n",
    "    text = re.sub(r'\\s+', ' ', text)\n",
    "    text = text.strip()\n",
    "    return text"
   ]
  },
  {
   "cell_type": "code",
   "execution_count": 18,
   "id": "4eb1711e-cff1-49bd-9342-eaed6da115df",
   "metadata": {},
   "outputs": [],
   "source": [
    "def preprocess(text):\n",
    "    text = lowercase(text) \n",
    "    text = remove_nonaplhanumeric(text) \n",
    "    text = remove_unnecessary_char(text) \n",
    "    text = normalize_alay(text)\n",
    "    text = stemming(text) \n",
    "    text = remove_stopword(text) \n",
    "    text = remove_unicode(text) \n",
    "    text = remove_extra_spaces(text) \n",
    "    return text"
   ]
  },
  {
   "cell_type": "code",
   "execution_count": 19,
   "id": "609ae65d-5564-4cb6-ba37-0911910ac472",
   "metadata": {},
   "outputs": [],
   "source": [
    "data['Tweet'] = data['Tweet'].apply(preprocess)"
   ]
  },
  {
   "cell_type": "code",
   "execution_count": 20,
   "id": "4d34b280-56a8-4072-aea9-510a24a6e2e0",
   "metadata": {},
   "outputs": [
    {
     "name": "stdout",
     "output_type": "stream",
     "text": [
      "Shape:  (13169, 13)\n"
     ]
    },
    {
     "data": {
      "text/html": [
       "<div>\n",
       "<style scoped>\n",
       "    .dataframe tbody tr th:only-of-type {\n",
       "        vertical-align: middle;\n",
       "    }\n",
       "\n",
       "    .dataframe tbody tr th {\n",
       "        vertical-align: top;\n",
       "    }\n",
       "\n",
       "    .dataframe thead th {\n",
       "        text-align: right;\n",
       "    }\n",
       "</style>\n",
       "<table border=\"1\" class=\"dataframe\">\n",
       "  <thead>\n",
       "    <tr style=\"text-align: right;\">\n",
       "      <th></th>\n",
       "      <th>Tweet</th>\n",
       "      <th>HS</th>\n",
       "      <th>Abusive</th>\n",
       "      <th>HS_Individual</th>\n",
       "      <th>HS_Group</th>\n",
       "      <th>HS_Religion</th>\n",
       "      <th>HS_Race</th>\n",
       "      <th>HS_Physical</th>\n",
       "      <th>HS_Gender</th>\n",
       "      <th>HS_Other</th>\n",
       "      <th>HS_Weak</th>\n",
       "      <th>HS_Moderate</th>\n",
       "      <th>HS_Strong</th>\n",
       "    </tr>\n",
       "  </thead>\n",
       "  <tbody>\n",
       "    <tr>\n",
       "      <th>0</th>\n",
       "      <td>cowok usaha lacak perhati gue lantas remeh per...</td>\n",
       "      <td>1</td>\n",
       "      <td>1</td>\n",
       "      <td>1</td>\n",
       "      <td>0</td>\n",
       "      <td>0</td>\n",
       "      <td>0</td>\n",
       "      <td>0</td>\n",
       "      <td>0</td>\n",
       "      <td>1</td>\n",
       "      <td>1</td>\n",
       "      <td>0</td>\n",
       "      <td>0</td>\n",
       "    </tr>\n",
       "    <tr>\n",
       "      <th>1</th>\n",
       "      <td>telat tau edan sarap gue gaul cigax jifla cal ...</td>\n",
       "      <td>0</td>\n",
       "      <td>1</td>\n",
       "      <td>0</td>\n",
       "      <td>0</td>\n",
       "      <td>0</td>\n",
       "      <td>0</td>\n",
       "      <td>0</td>\n",
       "      <td>0</td>\n",
       "      <td>0</td>\n",
       "      <td>0</td>\n",
       "      <td>0</td>\n",
       "      <td>0</td>\n",
       "    </tr>\n",
       "    <tr>\n",
       "      <th>2</th>\n",
       "      <td>41 kadang pikir percaya tuhan jatuh kali kali ...</td>\n",
       "      <td>0</td>\n",
       "      <td>0</td>\n",
       "      <td>0</td>\n",
       "      <td>0</td>\n",
       "      <td>0</td>\n",
       "      <td>0</td>\n",
       "      <td>0</td>\n",
       "      <td>0</td>\n",
       "      <td>0</td>\n",
       "      <td>0</td>\n",
       "      <td>0</td>\n",
       "      <td>0</td>\n",
       "    </tr>\n",
       "    <tr>\n",
       "      <th>3</th>\n",
       "      <td>ku tau mata sipit lihat</td>\n",
       "      <td>0</td>\n",
       "      <td>0</td>\n",
       "      <td>0</td>\n",
       "      <td>0</td>\n",
       "      <td>0</td>\n",
       "      <td>0</td>\n",
       "      <td>0</td>\n",
       "      <td>0</td>\n",
       "      <td>0</td>\n",
       "      <td>0</td>\n",
       "      <td>0</td>\n",
       "      <td>0</td>\n",
       "    </tr>\n",
       "    <tr>\n",
       "      <th>4</th>\n",
       "      <td>kaum cebong kafir lihat dongok dungu haha</td>\n",
       "      <td>1</td>\n",
       "      <td>1</td>\n",
       "      <td>0</td>\n",
       "      <td>1</td>\n",
       "      <td>1</td>\n",
       "      <td>0</td>\n",
       "      <td>0</td>\n",
       "      <td>0</td>\n",
       "      <td>0</td>\n",
       "      <td>0</td>\n",
       "      <td>1</td>\n",
       "      <td>0</td>\n",
       "    </tr>\n",
       "  </tbody>\n",
       "</table>\n",
       "</div>"
      ],
      "text/plain": [
       "                                               Tweet  HS  Abusive  \\\n",
       "0  cowok usaha lacak perhati gue lantas remeh per...   1        1   \n",
       "1  telat tau edan sarap gue gaul cigax jifla cal ...   0        1   \n",
       "2  41 kadang pikir percaya tuhan jatuh kali kali ...   0        0   \n",
       "3                            ku tau mata sipit lihat   0        0   \n",
       "4          kaum cebong kafir lihat dongok dungu haha   1        1   \n",
       "\n",
       "   HS_Individual  HS_Group  HS_Religion  HS_Race  HS_Physical  HS_Gender  \\\n",
       "0              1         0            0        0            0          0   \n",
       "1              0         0            0        0            0          0   \n",
       "2              0         0            0        0            0          0   \n",
       "3              0         0            0        0            0          0   \n",
       "4              0         1            1        0            0          0   \n",
       "\n",
       "   HS_Other  HS_Weak  HS_Moderate  HS_Strong  \n",
       "0         1        1            0          0  \n",
       "1         0        0            0          0  \n",
       "2         0        0            0          0  \n",
       "3         0        0            0          0  \n",
       "4         0        0            1          0  "
      ]
     },
     "execution_count": 20,
     "metadata": {},
     "output_type": "execute_result"
    }
   ],
   "source": [
    "print(\"Shape: \", data.shape)\n",
    "data.head()"
   ]
  },
  {
   "cell_type": "markdown",
   "id": "2eeffbbe-731d-4793-84fc-a40c0e165474",
   "metadata": {},
   "source": [
    "## EDA"
   ]
  },
  {
   "cell_type": "markdown",
   "id": "31e5e8ce-8bd4-4823-a4aa-c9ab325d8b06",
   "metadata": {},
   "source": [
    "### Most common abusive words"
   ]
  },
  {
   "cell_type": "code",
   "execution_count": 23,
   "id": "ba9c9b77-21dd-4b42-8750-a55bafdcce12",
   "metadata": {},
   "outputs": [],
   "source": [
    "tweets_corpus = [] \n",
    "\n",
    "for tweet in data['Tweet'].str.split():\n",
    "    for word in tweet:\n",
    "        if len(word) > 0 and word in abusive_dict:\n",
    "            tweets_corpus.append(word)"
   ]
  },
  {
   "cell_type": "code",
   "execution_count": 24,
   "id": "5db0fce8-e4c7-4d03-b97b-df4fce926e05",
   "metadata": {},
   "outputs": [],
   "source": [
    "counter_tweets = Counter(tweets_corpus).most_common()[:1000]"
   ]
  },
  {
   "cell_type": "code",
   "execution_count": 25,
   "id": "3aece32f-6051-4c1f-817a-1e5a142f9c93",
   "metadata": {},
   "outputs": [
    {
     "data": {
      "image/png": "[encoded data removed]",
      "text/plain": [
       "<Figure size 1000x1500 with 1 Axes>"
      ]
     },
     "metadata": {},
     "output_type": "display_data"
    }
   ],
   "source": [
    "top_tweets = OrderedDict(counter_tweets)\n",
    "\n",
    "show_only = 50\n",
    "    \n",
    "keys = list(top_tweets.keys())\n",
    "vals = [top_tweets[k] for k in keys]\n",
    "\n",
    "original_slang = []\n",
    "for word in keys:\n",
    "    if word in alay_dict[1].values:\n",
    "        original_slang.append(alay_dict.loc[alay_dict[1] == word, 0].values[0])\n",
    "    else:\n",
    "        original_slang.append(word)\n",
    "        \n",
    "combined_words = [f'{keys[i]} ({original_slang[i]})' for i in range(len(keys))]\n",
    "\n",
    "plt.figure(figsize=(10, 15))\n",
    "sns.barplot(x=vals[:show_only], y=combined_words[:show_only])\n",
    "plt.title('Most Common Abusive Words')\n",
    "plt.show()"
   ]
  },
  {
   "cell_type": "markdown",
   "id": "076e410d-eaa1-4663-a460-7b76958edc3e",
   "metadata": {},
   "source": [
    "### WordCloud"
   ]
  },
  {
   "cell_type": "code",
   "execution_count": 27,
   "id": "ae8af60b-7585-49ca-8439-2a100d8e624a",
   "metadata": {},
   "outputs": [
    {
     "data": {
      "image/png": "[encoded data removed]",
      "text/plain": [
       "<Figure size 1000x800 with 1 Axes>"
      ]
     },
     "metadata": {},
     "output_type": "display_data"
    }
   ],
   "source": [
    "fig, axes = plt.subplots(ncols=1, figsize=(10, 8))\n",
    "tokens_ = ' '.join(tweets_corpus)\n",
    "wc_ = WordCloud(max_words=100, background_color='white', max_font_size=100, colormap='plasma').generate(tokens_)\n",
    "axes.axis(\"off\")\n",
    "axes.imshow(wc_, interpolation=\"bilinear\")\n",
    "plt.show()"
   ]
  },
  {
   "cell_type": "markdown",
   "id": "6a770c47-b439-4c62-9f18-7e03f622948c",
   "metadata": {},
   "source": [
    "### Label Distribution"
   ]
  },
  {
   "cell_type": "code",
   "execution_count": 29,
   "id": "ef3181b9-1e37-4050-a22b-7d76c3c89124",
   "metadata": {},
   "outputs": [
    {
     "data": {
      "image/png": "[encoded data removed]",
      "text/plain": [
       "<Figure size 1400x400 with 1 Axes>"
      ]
     },
     "metadata": {},
     "output_type": "display_data"
    }
   ],
   "source": [
    "plt.figure(figsize=(14,4))\n",
    "plt.title('Label Distribution')\n",
    "sns.barplot(data)\n",
    "plt.show()"
   ]
  },
  {
   "cell_type": "code",
   "execution_count": 30,
   "id": "0fd6173b-a51e-4739-99df-db94c0ac0ec7",
   "metadata": {},
   "outputs": [],
   "source": [
    "### Count of each label"
   ]
  },
  {
   "cell_type": "code",
   "execution_count": 31,
   "id": "db49d580-384f-450c-8794-c5828cc1aa72",
   "metadata": {},
   "outputs": [
    {
     "data": {
      "image/png": "[encoded data removed]",
      "text/plain": [
       "<Figure size 640x480 with 1 Axes>"
      ]
     },
     "metadata": {},
     "output_type": "display_data"
    },
    {
     "data": {
      "image/png": "[encoded data removed]",
      "text/plain": [
       "<Figure size 640x480 with 1 Axes>"
      ]
     },
     "metadata": {},
     "output_type": "display_data"
    },
    {
     "data": {
      "image/png": "[encoded data removed]",
      "text/plain": [
       "<Figure size 640x480 with 1 Axes>"
      ]
     },
     "metadata": {},
     "output_type": "display_data"
    },
    {
     "data": {
      "image/png": "[encoded data removed]",
      "text/plain": [
       "<Figure size 640x480 with 1 Axes>"
      ]
     },
     "metadata": {},
     "output_type": "display_data"
    },
    {
     "data": {
      "image/png": "[encoded data removed]",
      "text/plain": [
       "<Figure size 640x480 with 1 Axes>"
      ]
     },
     "metadata": {},
     "output_type": "display_data"
    },
    {
     "data": {
      "image/png": "[encoded data removed]",
      "text/plain": [
       "<Figure size 640x480 with 1 Axes>"
      ]
     },
     "metadata": {},
     "output_type": "display_data"
    },
    {
     "data": {
      "image/png": "[encoded data removed]",
      "text/plain": [
       "<Figure size 640x480 with 1 Axes>"
      ]
     },
     "metadata": {},
     "output_type": "display_data"
    },
    {
     "data": {
      "image/png": "[encoded data removed]",
      "text/plain": [
       "<Figure size 640x480 with 1 Axes>"
      ]
     },
     "metadata": {},
     "output_type": "display_data"
    },
    {
     "data": {
      "image/png": "[encoded data removed]",
      "text/plain": [
       "<Figure size 640x480 with 1 Axes>"
      ]
     },
     "metadata": {},
     "output_type": "display_data"
    },
    {
     "data": {
      "image/png": "[encoded data removed]",
      "text/plain": [
       "<Figure size 640x480 with 1 Axes>"
      ]
     },
     "metadata": {},
     "output_type": "display_data"
    },
    {
     "data": {
      "image/png": "[encoded data removed]",
      "text/plain": [
       "<Figure size 640x480 with 1 Axes>"
      ]
     },
     "metadata": {},
     "output_type": "display_data"
    },
    {
     "data": {
      "image/png": "[encoded data removed]",
      "text/plain": [
       "<Figure size 640x480 with 1 Axes>"
      ]
     },
     "metadata": {},
     "output_type": "display_data"
    }
   ],
   "source": [
    "df1 = data.drop(['Tweet'], axis=1)\n",
    "for i in df1.columns:\n",
    "    j = 1\n",
    "    plt.figure(j)\n",
    "    sns.histplot(data=df1, x=i)\n",
    "    plt.show()\n",
    "    j = j+1"
   ]
  },
  {
   "cell_type": "markdown",
   "id": "8520931e-90e5-47f5-b6ba-5f81ed43203a",
   "metadata": {},
   "source": [
    "### Comments per label"
   ]
  },
  {
   "cell_type": "code",
   "execution_count": 33,
   "id": "50f3b9e9-617c-4469-bdf8-9af50a735ed2",
   "metadata": {},
   "outputs": [
    {
     "data": {
      "text/plain": [
       "HS               5561\n",
       "Abusive          5043\n",
       "HS_Individual    3575\n",
       "HS_Group         1986\n",
       "HS_Religion       793\n",
       "HS_Race           566\n",
       "HS_Physical       323\n",
       "HS_Gender         306\n",
       "HS_Other         3740\n",
       "HS_Weak          3383\n",
       "HS_Moderate      1705\n",
       "HS_Strong         473\n",
       "dtype: int64"
      ]
     },
     "execution_count": 33,
     "metadata": {},
     "output_type": "execute_result"
    }
   ],
   "source": [
    "df2 = df1.sum()\n",
    "df2"
   ]
  },
  {
   "cell_type": "code",
   "execution_count": 35,
   "id": "735b12cb-1426-42c7-8882-596bd837f4f4",
   "metadata": {},
   "outputs": [
    {
     "data": {
      "image/png": "[encoded data removed]",
      "text/plain": [
       "<Figure size 1500x600 with 1 Axes>"
      ]
     },
     "metadata": {},
     "output_type": "display_data"
    }
   ],
   "source": [
    "plt.figure(figsize=(15, 6))\n",
    "sns.barplot(x=df2.index, y=df2.values, hue=df2.values.astype(str), dodge=False, palette='Paired')\n",
    "plt.ylabel('Count')\n",
    "plt.title(\"Number of Comments Per Label\")\n",
    "plt.legend(title='Count per Label', bbox_to_anchor=(1, 1))\n",
    "plt.show()"
   ]
  },
  {
   "cell_type": "markdown",
   "id": "23da9bf2-7707-4574-8d0a-016bb8b2dd76",
   "metadata": {},
   "source": [
    "## Splitting and Balancing Labels Dataset"
   ]
  },
  {
   "cell_type": "markdown",
   "id": "db10d727-e695-4fb3-bf6b-1f3f32edd30f",
   "metadata": {},
   "source": [
    "Balancing based of comments count per label."
   ]
  },
  {
   "cell_type": "code",
   "execution_count": 41,
   "id": "4ceca8c2-adf8-4601-a93e-449a608632c4",
   "metadata": {},
   "outputs": [],
   "source": [
    "# label dataframe\n",
    "df_HS = data[['Tweet', 'HS']]\n",
    "df_Abusive = data[['Tweet', 'Abusive']]\n",
    "df_Individual = data[['Tweet', 'HS_Individual']]\n",
    "df_Group = data[['Tweet', 'HS_Group']]\n",
    "df_Religion = data[['Tweet', 'HS_Religion']]\n",
    "df_Race = data[['Tweet', 'HS_Race']]\n",
    "df_Physical = data[['Tweet', 'HS_Physical']]\n",
    "df_Gender = data[['Tweet', 'HS_Gender']]\n",
    "df_Other = data[['Tweet', 'HS_Other']]\n",
    "df_Weak = data[['Tweet', 'HS_Weak']]\n",
    "df_Moderate = data[['Tweet', 'HS_Moderate']]\n",
    "df_Strong = data[['Tweet', 'HS_Strong']]"
   ]
  },
  {
   "cell_type": "code",
   "execution_count": 43,
   "id": "80a2f479-16bf-4856-84c9-f8b2971620bd",
   "metadata": {},
   "outputs": [
    {
     "data": {
      "text/plain": [
       "(11122, 2)"
      ]
     },
     "execution_count": 43,
     "metadata": {},
     "output_type": "execute_result"
    }
   ],
   "source": [
    "# balancing df_HS 5561\n",
    "df_HS_1 = df_HS[df_HS['HS'] == 1]\n",
    "df_HS_0 = df_HS[df_HS['HS'] == 0].iloc[:5561]\n",
    "df_HS_bal = pd.concat([df_HS_1, df_HS_0], axis=0)\n",
    "df_HS_bal.shape"
   ]
  },
  {
   "cell_type": "code",
   "execution_count": 45,
   "id": "307b81b6-2f08-43be-a5c0-cdcff3499b82",
   "metadata": {},
   "outputs": [
    {
     "data": {
      "text/plain": [
       "(10086, 2)"
      ]
     },
     "execution_count": 45,
     "metadata": {},
     "output_type": "execute_result"
    }
   ],
   "source": [
    "# balancing df_Abusive 5043\n",
    "df_Abusive_1 = df_Abusive[df_Abusive['Abusive'] == 1]\n",
    "df_Abusive_0 = df_Abusive[df_Abusive['Abusive'] == 0].iloc[:5043]\n",
    "df_Abusive_bal = pd.concat([df_Abusive_1, df_Abusive_0], axis=0)\n",
    "df_Abusive_bal.shape"
   ]
  },
  {
   "cell_type": "code",
   "execution_count": 47,
   "id": "2461f6a3-1705-4822-948e-803a4de87fcd",
   "metadata": {},
   "outputs": [
    {
     "data": {
      "text/plain": [
       "(7150, 2)"
      ]
     },
     "execution_count": 47,
     "metadata": {},
     "output_type": "execute_result"
    }
   ],
   "source": [
    "# balancing df_Individual 3575\n",
    "df_Individual_1 = df_Individual[df_Individual['HS_Individual'] == 1]\n",
    "df_Individual_0 = df_Individual[df_Individual['HS_Individual'] == 0].iloc[:3575]\n",
    "df_Individual_bal = pd.concat([df_Individual_1, df_Individual_0], axis=0)\n",
    "df_Individual_bal.shape"
   ]
  },
  {
   "cell_type": "code",
   "execution_count": 49,
   "id": "f26acde5-c18c-40a1-a869-4c21a3dd0cb5",
   "metadata": {},
   "outputs": [
    {
     "data": {
      "text/plain": [
       "(3972, 2)"
      ]
     },
     "execution_count": 49,
     "metadata": {},
     "output_type": "execute_result"
    }
   ],
   "source": [
    "# balancing df_Group 1986\n",
    "df_Group_1 = df_Group[df_Group['HS_Group'] == 1]\n",
    "df_Group_0 = df_Group[df_Group['HS_Group'] == 0].iloc[:1986]\n",
    "df_Group_bal = pd.concat([df_Group_1, df_Group_0], axis=0)\n",
    "df_Group_bal.shape"
   ]
  },
  {
   "cell_type": "code",
   "execution_count": 51,
   "id": "1bc6a332-f57c-4ec7-9803-af755100a0a0",
   "metadata": {},
   "outputs": [
    {
     "data": {
      "text/plain": [
       "(1586, 2)"
      ]
     },
     "execution_count": 51,
     "metadata": {},
     "output_type": "execute_result"
    }
   ],
   "source": [
    "# balancing df_Religion 793\n",
    "df_Religion_1 = df_Religion[df_Religion['HS_Religion'] == 1]\n",
    "df_Religion_0 = df_Religion[df_Religion['HS_Religion'] == 0].iloc[:793]\n",
    "df_Religion_bal = pd.concat([df_Religion_1, df_Religion_0], axis=0)\n",
    "df_Religion_bal.shape"
   ]
  },
  {
   "cell_type": "code",
   "execution_count": 53,
   "id": "34fa6e2c-71a5-4bc1-a4c6-b8e453357ac6",
   "metadata": {},
   "outputs": [
    {
     "data": {
      "text/plain": [
       "(1132, 2)"
      ]
     },
     "execution_count": 53,
     "metadata": {},
     "output_type": "execute_result"
    }
   ],
   "source": [
    "# balancing df_Race 566\n",
    "df_Race_1 = df_Race[df_Race['HS_Race'] == 1]\n",
    "df_Race_0 = df_Race[df_Race['HS_Race'] == 0].iloc[:566]\n",
    "df_Race_bal = pd.concat([df_Race_1, df_Race_0], axis=0)\n",
    "df_Race_bal.shape"
   ]
  },
  {
   "cell_type": "code",
   "execution_count": 55,
   "id": "06d1eaa8-3fad-4c46-b3a0-70d6e91cecce",
   "metadata": {},
   "outputs": [
    {
     "data": {
      "text/plain": [
       "(646, 2)"
      ]
     },
     "execution_count": 55,
     "metadata": {},
     "output_type": "execute_result"
    }
   ],
   "source": [
    "# balancing df_Physical 323\n",
    "df_Physical_1 = df_Physical[df_Physical['HS_Physical'] == 1]\n",
    "df_Physical_0 = df_Physical[df_Physical['HS_Physical'] == 0].iloc[:323]\n",
    "df_Physical_bal = pd.concat([df_Physical_1, df_Physical_0], axis=0)\n",
    "df_Physical_bal.shape"
   ]
  },
  {
   "cell_type": "code",
   "execution_count": 57,
   "id": "aefe1142-2a08-4e3c-a7ec-049ecda84dd5",
   "metadata": {},
   "outputs": [
    {
     "data": {
      "text/plain": [
       "(612, 2)"
      ]
     },
     "execution_count": 57,
     "metadata": {},
     "output_type": "execute_result"
    }
   ],
   "source": [
    "# balancing df_Gender 306\n",
    "df_Gender_1 = df_Gender[df_Gender['HS_Gender'] == 1]\n",
    "df_Gender_0 = df_Gender[df_Gender['HS_Gender'] == 0].iloc[:306]\n",
    "df_Gender_bal = pd.concat([df_Gender_1, df_Gender_0], axis=0)\n",
    "df_Gender_bal.shape"
   ]
  },
  {
   "cell_type": "code",
   "execution_count": 59,
   "id": "e03d3d39-d53f-41e5-bac5-f547149ebb17",
   "metadata": {},
   "outputs": [
    {
     "data": {
      "text/plain": [
       "(7480, 2)"
      ]
     },
     "execution_count": 59,
     "metadata": {},
     "output_type": "execute_result"
    }
   ],
   "source": [
    "# balancing df_Other 3740\n",
    "df_Other_1 = df_Other[df_Other['HS_Other'] == 1]\n",
    "df_Other_0 = df_Other[df_Other['HS_Other'] == 0].iloc[:3740]\n",
    "df_Other_bal = pd.concat([df_Other_1, df_Other_0], axis=0)\n",
    "df_Other_bal.shape"
   ]
  },
  {
   "cell_type": "code",
   "execution_count": 61,
   "id": "52e234d3-e39d-4c65-bb24-f973e03b178a",
   "metadata": {},
   "outputs": [
    {
     "data": {
      "text/plain": [
       "(6766, 2)"
      ]
     },
     "execution_count": 61,
     "metadata": {},
     "output_type": "execute_result"
    }
   ],
   "source": [
    "# balancing df_Weak 3383\n",
    "df_Weak_1 = df_Weak[df_Weak['HS_Weak'] == 1]\n",
    "df_Weak_0 = df_Weak[df_Weak['HS_Weak'] == 0].iloc[:3383]\n",
    "df_Weak_bal = pd.concat([df_Weak_1, df_Weak_0], axis=0)\n",
    "df_Weak_bal.shape"
   ]
  },
  {
   "cell_type": "code",
   "execution_count": 63,
   "id": "2394f99c-325f-43b5-822f-06ac16536d97",
   "metadata": {},
   "outputs": [
    {
     "data": {
      "text/plain": [
       "(3410, 2)"
      ]
     },
     "execution_count": 63,
     "metadata": {},
     "output_type": "execute_result"
    }
   ],
   "source": [
    "# balancing df_Moderate 1705\n",
    "df_Moderate_1 = df_Moderate[df_Moderate['HS_Moderate'] == 1]\n",
    "df_Moderate_0 = df_Moderate[df_Moderate['HS_Moderate'] == 0].iloc[:1705]\n",
    "df_Moderate_bal = pd.concat([df_Moderate_1, df_Moderate_0], axis=0)\n",
    "df_Moderate_bal.shape"
   ]
  },
  {
   "cell_type": "code",
   "execution_count": 65,
   "id": "de8e2742-def1-4f3a-8014-00a09e71dc68",
   "metadata": {},
   "outputs": [
    {
     "data": {
      "text/plain": [
       "(946, 2)"
      ]
     },
     "execution_count": 65,
     "metadata": {},
     "output_type": "execute_result"
    }
   ],
   "source": [
    "# balancing df_Strong 473\n",
    "df_Strong_1 = df_Strong[df_Strong['HS_Strong'] == 1]\n",
    "df_Strong_0 = df_Strong[df_Strong['HS_Strong'] == 0].iloc[:473]\n",
    "df_Strong_bal = pd.concat([df_Strong_1, df_Strong_0], axis=0)\n",
    "df_Strong_bal.shape"
   ]
  },
  {
   "cell_type": "code",
   "execution_count": 69,
   "id": "b30d26b5-7131-48ee-98c4-b75c34963df5",
   "metadata": {},
   "outputs": [],
   "source": [
    "#label dataset\n",
    "df_HS_bal.to_csv(\"DatasetsOutput/HS.csv\")\n",
    "df_Abusive_bal.to_csv(\"DatasetsOutput/Abusive.csv\")\n",
    "df_Individual_bal.to_csv(\"DatasetsOutput/Individual.csv\")\n",
    "df_Group_bal.to_csv(\"DatasetsOutput/Group.csv\")\n",
    "df_Religion_bal.to_csv(\"DatasetsOutput/Religion.csv\")\n",
    "df_Race_bal.to_csv(\"DatasetsOutput/Race.csv\")\n",
    "df_Physical_bal.to_csv(\"DatasetsOutput/Physical.csv\")\n",
    "df_Gender_bal.to_csv(\"DatasetsOutput/Gender.csv\")\n",
    "df_Other_bal.to_csv(\"DatasetsOutput/Other.csv\")\n",
    "df_Weak_bal.to_csv(\"DatasetsOutput/Weak.csv\")\n",
    "df_Moderate_bal.to_csv(\"DatasetsOutput/Moderate.csv\")\n",
    "df_Strong_bal.to_csv(\"DatasetsOutput/Strong.csv\")"
   ]
  },
  {
   "cell_type": "markdown",
   "id": "871edf27-bbac-49e0-91d0-e89de0a0e3bb",
   "metadata": {},
   "source": [
    "## Modelling"
   ]
  },
  {
   "cell_type": "code",
   "execution_count": 72,
   "id": "11e55fb3-fda2-4684-9ccd-d82232301efc",
   "metadata": {},
   "outputs": [],
   "source": [
    "def vector_model(data, category, vectorizer, ngram):\n",
    "    X = data['Tweet'].fillna(' ')\n",
    "    Y = data[category]\n",
    "\n",
    "    X_train, X_test, Y_train, Y_test = train_test_split(X, Y, test_size=0.3, random_state=42)\n",
    "\n",
    "    vector = vectorizer(ngram_range=(ngram), stop_words=id_stopword_dict['stopword'].tolist())\n",
    "\n",
    "    X_train_scal = vector.fit_transform(X_train)\n",
    "    X_test_scal = vector.transform(X_test)\n",
    "    \n",
    "    # KNN\n",
    "    knn = KNeighborsClassifier(n_neighbors=5)\n",
    "    knn.fit(X_train_scal, Y_train)\n",
    "    Y_pred_knn = knn.predict(X_test_scal)\n",
    "    print(f\"Knn done -> It's classification report for {category} \\n {classification_report(Y_test, Y_pred_knn)} \")\n",
    "    print(\"\\n----------------------------------------------------------------------\")\n",
    "    \n",
    "    # logistic regression\n",
    "    lr = LogisticRegression()\n",
    "    lr.fit(X_train_scal, Y_train)\n",
    "    Y_pred_lr = lr.predict(X_test_scal)\n",
    "    print(f\"\\nLr done -> It's classification report for {category} \\n {classification_report(Y_test, Y_pred_lr)} \")\n",
    "    print(\"\\n----------------------------------------------------------------------\\n\")\n",
    "\n",
    "    # Support Vector Machine\n",
    "    svm = SVC(kernel='rbf')\n",
    "    svm.fit(X_train_scal, Y_train)\n",
    "    Y_pred_svm = svm.predict(X_test_scal)\n",
    "    print(f\"\\nsvm done -> It's classification report for {category} \\n {classification_report(Y_test, Y_pred_svm)} \")\n",
    "    print(\"\\n----------------------------------------------------------------------\\n\")\n",
    "    \n",
    "    # Naive Bayes\n",
    "    cnb = ComplementNB()\n",
    "    cnb.fit(X_train_scal, Y_train)\n",
    "    Y_pred_cnb = cnb.predict(X_test_scal)\n",
    "    print(f\"\\ncnb done -> It's classification report for {category} \\n {classification_report(Y_test, Y_pred_cnb)} \")\n",
    "    print(\"\\n----------------------------------------------------------------------\\n\")\n",
    "\n",
    "    bnb = BernoulliNB()\n",
    "    bnb.fit(X_train_scal, Y_train)\n",
    "    Y_pred_bnb = bnb.predict(X_test_scal)\n",
    "    print(f\"\\nbnb done -> It's classification report for {category} \\n {classification_report(Y_test, Y_pred_bnb)} \")\n",
    "    print(\"\\n----------------------------------------------------------------------\\n\")\n",
    "    \n",
    "    # Decision Tree Classifier\n",
    "    dt = DecisionTreeClassifier(criterion='entropy', min_samples_split=2, random_state=42)\n",
    "    dt.fit(X_train_scal, Y_train)\n",
    "    Y_pred_dt = dt.predict(X_test_scal)\n",
    "    print(f\"\\nDT done -> It's classification report for {category} \\n {classification_report(Y_test, Y_pred_dt)} \")\n",
    "    print(\"\\n----------------------------------------------------------------------\\n\")\n",
    "\n",
    "    # Random Forest Classifier\n",
    "    rf = RandomForestClassifier(n_estimators=105, min_samples_split=2, random_state=42)\n",
    "    rf.fit(X_train_scal, Y_train)\n",
    "    Y_pred_rf = rf.predict(X_test_scal)\n",
    "    print(f\"\\nRF done -> It's classification report for {category} \\n {classification_report(Y_test, Y_pred_rf)} \")\n",
    "    print(\"\\n----------------------------------------------------------------------\\n\")\n",
    "    \n",
    "    f1_scores = [round(f1_score(Y_pred_knn, Y_test), 2), round(f1_score(Y_pred_lr, Y_test), 2), round(f1_score(Y_pred_svm, Y_test), 2),\n",
    "                 round(f1_score(Y_pred_cnb, Y_test), 2), round(f1_score(Y_pred_bnb, Y_test), 2), round(f1_score(Y_pred_dt, Y_test), 2),\n",
    "                 round(f1_score(Y_pred_rf, Y_test), 2)]\n",
    "    print(f\"F1_scores for {category} Are calculated\")\n",
    "\n",
    "    Scores = {f'F1_Score - {category}':f1_scores}\n",
    "    Scores_data = pd.DataFrame(Scores, index=['KNN', 'Logistic Regression', 'SVM', 'Complement NB', 'Bernoulli NB', 'Decision Tree', 'Random Forest'])\n",
    "    return Scores_data"
   ]
  },
  {
   "cell_type": "markdown",
   "id": "edb868ca-ce9a-4ab5-8367-f4a91719c12c",
   "metadata": {},
   "source": [
    "## Model Evaluation"
   ]
  },
  {
   "cell_type": "markdown",
   "id": "a51e0da4-4e38-4981-adb7-79294d7075bd",
   "metadata": {},
   "source": [
    "### Score for HS"
   ]
  },
  {
   "cell_type": "code",
   "execution_count": 78,
   "id": "1998d57d-71d8-46c1-972e-3302558dfec2",
   "metadata": {},
   "outputs": [
    {
     "name": "stdout",
     "output_type": "stream",
     "text": [
      "Knn done -> It's classification report for HS \n",
      "               precision    recall  f1-score   support\n",
      "\n",
      "           0       0.55      0.95      0.70      1664\n",
      "           1       0.82      0.22      0.35      1673\n",
      "\n",
      "    accuracy                           0.59      3337\n",
      "   macro avg       0.69      0.59      0.52      3337\n",
      "weighted avg       0.69      0.59      0.52      3337\n",
      " \n",
      "\n",
      "----------------------------------------------------------------------\n",
      "\n",
      "Lr done -> It's classification report for HS \n",
      "               precision    recall  f1-score   support\n",
      "\n",
      "           0       0.80      0.83      0.82      1664\n",
      "           1       0.83      0.79      0.81      1673\n",
      "\n",
      "    accuracy                           0.81      3337\n",
      "   macro avg       0.81      0.81      0.81      3337\n",
      "weighted avg       0.81      0.81      0.81      3337\n",
      " \n",
      "\n",
      "----------------------------------------------------------------------\n",
      "\n",
      "\n",
      "svm done -> It's classification report for HS \n",
      "               precision    recall  f1-score   support\n",
      "\n",
      "           0       0.81      0.85      0.83      1664\n",
      "           1       0.84      0.80      0.82      1673\n",
      "\n",
      "    accuracy                           0.82      3337\n",
      "   macro avg       0.83      0.83      0.82      3337\n",
      "weighted avg       0.83      0.82      0.82      3337\n",
      " \n",
      "\n",
      "----------------------------------------------------------------------\n",
      "\n",
      "\n",
      "cnb done -> It's classification report for HS \n",
      "               precision    recall  f1-score   support\n",
      "\n",
      "           0       0.86      0.72      0.79      1664\n",
      "           1       0.76      0.88      0.82      1673\n",
      "\n",
      "    accuracy                           0.80      3337\n",
      "   macro avg       0.81      0.80      0.80      3337\n",
      "weighted avg       0.81      0.80      0.80      3337\n",
      " \n",
      "\n",
      "----------------------------------------------------------------------\n",
      "\n",
      "\n",
      "bnb done -> It's classification report for HS \n",
      "               precision    recall  f1-score   support\n",
      "\n",
      "           0       0.88      0.66      0.76      1664\n",
      "           1       0.73      0.91      0.81      1673\n",
      "\n",
      "    accuracy                           0.79      3337\n",
      "   macro avg       0.81      0.79      0.78      3337\n",
      "weighted avg       0.81      0.79      0.78      3337\n",
      " \n",
      "\n",
      "----------------------------------------------------------------------\n",
      "\n",
      "\n",
      "DT done -> It's classification report for HS \n",
      "               precision    recall  f1-score   support\n",
      "\n",
      "           0       0.78      0.76      0.77      1664\n",
      "           1       0.77      0.79      0.78      1673\n",
      "\n",
      "    accuracy                           0.77      3337\n",
      "   macro avg       0.77      0.77      0.77      3337\n",
      "weighted avg       0.77      0.77      0.77      3337\n",
      " \n",
      "\n",
      "----------------------------------------------------------------------\n",
      "\n",
      "\n",
      "RF done -> It's classification report for HS \n",
      "               precision    recall  f1-score   support\n",
      "\n",
      "           0       0.82      0.82      0.82      1664\n",
      "           1       0.82      0.82      0.82      1673\n",
      "\n",
      "    accuracy                           0.82      3337\n",
      "   macro avg       0.82      0.82      0.82      3337\n",
      "weighted avg       0.82      0.82      0.82      3337\n",
      " \n",
      "\n",
      "----------------------------------------------------------------------\n",
      "\n",
      "F1_scores for HS Are calculated\n"
     ]
    },
    {
     "data": {
      "text/html": [
       "<div>\n",
       "<style scoped>\n",
       "    .dataframe tbody tr th:only-of-type {\n",
       "        vertical-align: middle;\n",
       "    }\n",
       "\n",
       "    .dataframe tbody tr th {\n",
       "        vertical-align: top;\n",
       "    }\n",
       "\n",
       "    .dataframe thead th {\n",
       "        text-align: right;\n",
       "    }\n",
       "</style>\n",
       "<table border=\"1\" class=\"dataframe\">\n",
       "  <thead>\n",
       "    <tr style=\"text-align: right;\">\n",
       "      <th></th>\n",
       "      <th>F1_Score - HS</th>\n",
       "    </tr>\n",
       "  </thead>\n",
       "  <tbody>\n",
       "    <tr>\n",
       "      <th>KNN</th>\n",
       "      <td>0.35</td>\n",
       "    </tr>\n",
       "    <tr>\n",
       "      <th>Logistic Regression</th>\n",
       "      <td>0.81</td>\n",
       "    </tr>\n",
       "    <tr>\n",
       "      <th>SVM</th>\n",
       "      <td>0.82</td>\n",
       "    </tr>\n",
       "    <tr>\n",
       "      <th>Complement NB</th>\n",
       "      <td>0.82</td>\n",
       "    </tr>\n",
       "    <tr>\n",
       "      <th>Bernoulli NB</th>\n",
       "      <td>0.81</td>\n",
       "    </tr>\n",
       "    <tr>\n",
       "      <th>Decision Tree</th>\n",
       "      <td>0.78</td>\n",
       "    </tr>\n",
       "    <tr>\n",
       "      <th>Random Forest</th>\n",
       "      <td>0.82</td>\n",
       "    </tr>\n",
       "  </tbody>\n",
       "</table>\n",
       "</div>"
      ],
      "text/plain": [
       "                     F1_Score - HS\n",
       "KNN                           0.35\n",
       "Logistic Regression           0.81\n",
       "SVM                           0.82\n",
       "Complement NB                 0.82\n",
       "Bernoulli NB                  0.81\n",
       "Decision Tree                 0.78\n",
       "Random Forest                 0.82"
      ]
     },
     "execution_count": 78,
     "metadata": {},
     "output_type": "execute_result"
    }
   ],
   "source": [
    "# HS\n",
    "data_HS = pd.read_csv('DatasetsOutput/HS.csv')\n",
    "result_HS = vector_model(data_HS, 'HS', TfidfVectorizer, (1,1))\n",
    "result_HS"
   ]
  },
  {
   "cell_type": "markdown",
   "id": "ec0801f1-3e74-4d72-b39d-7867819865da",
   "metadata": {},
   "source": [
    "### Score for Abusive"
   ]
  },
  {
   "cell_type": "code",
   "execution_count": 83,
   "id": "172ac258-5718-4385-854e-ab6c77d4f093",
   "metadata": {},
   "outputs": [
    {
     "name": "stdout",
     "output_type": "stream",
     "text": [
      "Knn done -> It's classification report for Abusive \n",
      "               precision    recall  f1-score   support\n",
      "\n",
      "           0       0.58      0.95      0.72      1477\n",
      "           1       0.89      0.34      0.49      1549\n",
      "\n",
      "    accuracy                           0.64      3026\n",
      "   macro avg       0.73      0.65      0.61      3026\n",
      "weighted avg       0.74      0.64      0.60      3026\n",
      " \n",
      "\n",
      "----------------------------------------------------------------------\n",
      "\n",
      "Lr done -> It's classification report for Abusive \n",
      "               precision    recall  f1-score   support\n",
      "\n",
      "           0       0.89      0.90      0.89      1477\n",
      "           1       0.90      0.89      0.90      1549\n",
      "\n",
      "    accuracy                           0.90      3026\n",
      "   macro avg       0.90      0.90      0.90      3026\n",
      "weighted avg       0.90      0.90      0.90      3026\n",
      " \n",
      "\n",
      "----------------------------------------------------------------------\n",
      "\n",
      "\n",
      "svm done -> It's classification report for Abusive \n",
      "               precision    recall  f1-score   support\n",
      "\n",
      "           0       0.89      0.92      0.90      1477\n",
      "           1       0.92      0.90      0.91      1549\n",
      "\n",
      "    accuracy                           0.91      3026\n",
      "   macro avg       0.91      0.91      0.91      3026\n",
      "weighted avg       0.91      0.91      0.91      3026\n",
      " \n",
      "\n",
      "----------------------------------------------------------------------\n",
      "\n",
      "\n",
      "cnb done -> It's classification report for Abusive \n",
      "               precision    recall  f1-score   support\n",
      "\n",
      "           0       0.89      0.84      0.87      1477\n",
      "           1       0.85      0.91      0.88      1549\n",
      "\n",
      "    accuracy                           0.87      3026\n",
      "   macro avg       0.87      0.87      0.87      3026\n",
      "weighted avg       0.87      0.87      0.87      3026\n",
      " \n",
      "\n",
      "----------------------------------------------------------------------\n",
      "\n",
      "\n",
      "bnb done -> It's classification report for Abusive \n",
      "               precision    recall  f1-score   support\n",
      "\n",
      "           0       0.92      0.73      0.81      1477\n",
      "           1       0.78      0.94      0.85      1549\n",
      "\n",
      "    accuracy                           0.84      3026\n",
      "   macro avg       0.85      0.83      0.83      3026\n",
      "weighted avg       0.85      0.84      0.83      3026\n",
      " \n",
      "\n",
      "----------------------------------------------------------------------\n",
      "\n",
      "\n",
      "DT done -> It's classification report for Abusive \n",
      "               precision    recall  f1-score   support\n",
      "\n",
      "           0       0.87      0.87      0.87      1477\n",
      "           1       0.88      0.87      0.87      1549\n",
      "\n",
      "    accuracy                           0.87      3026\n",
      "   macro avg       0.87      0.87      0.87      3026\n",
      "weighted avg       0.87      0.87      0.87      3026\n",
      " \n",
      "\n",
      "----------------------------------------------------------------------\n",
      "\n",
      "\n",
      "RF done -> It's classification report for Abusive \n",
      "               precision    recall  f1-score   support\n",
      "\n",
      "           0       0.88      0.91      0.89      1477\n",
      "           1       0.91      0.88      0.89      1549\n",
      "\n",
      "    accuracy                           0.89      3026\n",
      "   macro avg       0.89      0.89      0.89      3026\n",
      "weighted avg       0.89      0.89      0.89      3026\n",
      " \n",
      "\n",
      "----------------------------------------------------------------------\n",
      "\n",
      "F1_scores for Abusive Are calculated\n"
     ]
    },
    {
     "data": {
      "text/html": [
       "<div>\n",
       "<style scoped>\n",
       "    .dataframe tbody tr th:only-of-type {\n",
       "        vertical-align: middle;\n",
       "    }\n",
       "\n",
       "    .dataframe tbody tr th {\n",
       "        vertical-align: top;\n",
       "    }\n",
       "\n",
       "    .dataframe thead th {\n",
       "        text-align: right;\n",
       "    }\n",
       "</style>\n",
       "<table border=\"1\" class=\"dataframe\">\n",
       "  <thead>\n",
       "    <tr style=\"text-align: right;\">\n",
       "      <th></th>\n",
       "      <th>F1_Score - Abusive</th>\n",
       "    </tr>\n",
       "  </thead>\n",
       "  <tbody>\n",
       "    <tr>\n",
       "      <th>KNN</th>\n",
       "      <td>0.49</td>\n",
       "    </tr>\n",
       "    <tr>\n",
       "      <th>Logistic Regression</th>\n",
       "      <td>0.90</td>\n",
       "    </tr>\n",
       "    <tr>\n",
       "      <th>SVM</th>\n",
       "      <td>0.91</td>\n",
       "    </tr>\n",
       "    <tr>\n",
       "      <th>Complement NB</th>\n",
       "      <td>0.88</td>\n",
       "    </tr>\n",
       "    <tr>\n",
       "      <th>Bernoulli NB</th>\n",
       "      <td>0.85</td>\n",
       "    </tr>\n",
       "    <tr>\n",
       "      <th>Decision Tree</th>\n",
       "      <td>0.87</td>\n",
       "    </tr>\n",
       "    <tr>\n",
       "      <th>Random Forest</th>\n",
       "      <td>0.89</td>\n",
       "    </tr>\n",
       "  </tbody>\n",
       "</table>\n",
       "</div>"
      ],
      "text/plain": [
       "                     F1_Score - Abusive\n",
       "KNN                                0.49\n",
       "Logistic Regression                0.90\n",
       "SVM                                0.91\n",
       "Complement NB                      0.88\n",
       "Bernoulli NB                       0.85\n",
       "Decision Tree                      0.87\n",
       "Random Forest                      0.89"
      ]
     },
     "execution_count": 83,
     "metadata": {},
     "output_type": "execute_result"
    }
   ],
   "source": [
    "# Abusive\n",
    "data_Abusive = pd.read_csv('DatasetsOutput/Abusive.csv')\n",
    "result_Abusive = vector_model(data_Abusive, 'Abusive', TfidfVectorizer, (1,1))\n",
    "result_Abusive"
   ]
  },
  {
   "cell_type": "markdown",
   "id": "03c1c73b-7686-46a9-9f66-81af7a3f0312",
   "metadata": {},
   "source": [
    "### Score for HS_Individual"
   ]
  },
  {
   "cell_type": "code",
   "execution_count": 86,
   "id": "9b1c9b5f-061f-40aa-927a-51adae8d061e",
   "metadata": {},
   "outputs": [
    {
     "name": "stdout",
     "output_type": "stream",
     "text": [
      "Knn done -> It's classification report for HS_Individual \n",
      "               precision    recall  f1-score   support\n",
      "\n",
      "           0       0.55      0.93      0.69      1042\n",
      "           1       0.82      0.28      0.42      1103\n",
      "\n",
      "    accuracy                           0.60      2145\n",
      "   macro avg       0.69      0.61      0.56      2145\n",
      "weighted avg       0.69      0.60      0.55      2145\n",
      " \n",
      "\n",
      "----------------------------------------------------------------------\n",
      "\n",
      "Lr done -> It's classification report for HS_Individual \n",
      "               precision    recall  f1-score   support\n",
      "\n",
      "           0       0.77      0.81      0.79      1042\n",
      "           1       0.81      0.77      0.79      1103\n",
      "\n",
      "    accuracy                           0.79      2145\n",
      "   macro avg       0.79      0.79      0.79      2145\n",
      "weighted avg       0.79      0.79      0.79      2145\n",
      " \n",
      "\n",
      "----------------------------------------------------------------------\n",
      "\n",
      "\n",
      "svm done -> It's classification report for HS_Individual \n",
      "               precision    recall  f1-score   support\n",
      "\n",
      "           0       0.78      0.81      0.79      1042\n",
      "           1       0.81      0.79      0.80      1103\n",
      "\n",
      "    accuracy                           0.80      2145\n",
      "   macro avg       0.80      0.80      0.80      2145\n",
      "weighted avg       0.80      0.80      0.80      2145\n",
      " \n",
      "\n",
      "----------------------------------------------------------------------\n",
      "\n",
      "\n",
      "cnb done -> It's classification report for HS_Individual \n",
      "               precision    recall  f1-score   support\n",
      "\n",
      "           0       0.82      0.70      0.75      1042\n",
      "           1       0.75      0.85      0.80      1103\n",
      "\n",
      "    accuracy                           0.78      2145\n",
      "   macro avg       0.78      0.77      0.77      2145\n",
      "weighted avg       0.78      0.78      0.77      2145\n",
      " \n",
      "\n",
      "----------------------------------------------------------------------\n",
      "\n",
      "\n",
      "bnb done -> It's classification report for HS_Individual \n",
      "               precision    recall  f1-score   support\n",
      "\n",
      "           0       0.84      0.59      0.70      1042\n",
      "           1       0.70      0.89      0.78      1103\n",
      "\n",
      "    accuracy                           0.75      2145\n",
      "   macro avg       0.77      0.74      0.74      2145\n",
      "weighted avg       0.77      0.75      0.74      2145\n",
      " \n",
      "\n",
      "----------------------------------------------------------------------\n",
      "\n",
      "\n",
      "DT done -> It's classification report for HS_Individual \n",
      "               precision    recall  f1-score   support\n",
      "\n",
      "           0       0.73      0.74      0.73      1042\n",
      "           1       0.75      0.74      0.74      1103\n",
      "\n",
      "    accuracy                           0.74      2145\n",
      "   macro avg       0.74      0.74      0.74      2145\n",
      "weighted avg       0.74      0.74      0.74      2145\n",
      " \n",
      "\n",
      "----------------------------------------------------------------------\n",
      "\n",
      "\n",
      "RF done -> It's classification report for HS_Individual \n",
      "               precision    recall  f1-score   support\n",
      "\n",
      "           0       0.78      0.78      0.78      1042\n",
      "           1       0.79      0.79      0.79      1103\n",
      "\n",
      "    accuracy                           0.78      2145\n",
      "   macro avg       0.78      0.78      0.78      2145\n",
      "weighted avg       0.78      0.78      0.78      2145\n",
      " \n",
      "\n",
      "----------------------------------------------------------------------\n",
      "\n",
      "F1_scores for HS_Individual Are calculated\n"
     ]
    },
    {
     "data": {
      "text/html": [
       "<div>\n",
       "<style scoped>\n",
       "    .dataframe tbody tr th:only-of-type {\n",
       "        vertical-align: middle;\n",
       "    }\n",
       "\n",
       "    .dataframe tbody tr th {\n",
       "        vertical-align: top;\n",
       "    }\n",
       "\n",
       "    .dataframe thead th {\n",
       "        text-align: right;\n",
       "    }\n",
       "</style>\n",
       "<table border=\"1\" class=\"dataframe\">\n",
       "  <thead>\n",
       "    <tr style=\"text-align: right;\">\n",
       "      <th></th>\n",
       "      <th>F1_Score - HS_Individual</th>\n",
       "    </tr>\n",
       "  </thead>\n",
       "  <tbody>\n",
       "    <tr>\n",
       "      <th>KNN</th>\n",
       "      <td>0.42</td>\n",
       "    </tr>\n",
       "    <tr>\n",
       "      <th>Logistic Regression</th>\n",
       "      <td>0.79</td>\n",
       "    </tr>\n",
       "    <tr>\n",
       "      <th>SVM</th>\n",
       "      <td>0.80</td>\n",
       "    </tr>\n",
       "    <tr>\n",
       "      <th>Complement NB</th>\n",
       "      <td>0.80</td>\n",
       "    </tr>\n",
       "    <tr>\n",
       "      <th>Bernoulli NB</th>\n",
       "      <td>0.78</td>\n",
       "    </tr>\n",
       "    <tr>\n",
       "      <th>Decision Tree</th>\n",
       "      <td>0.74</td>\n",
       "    </tr>\n",
       "    <tr>\n",
       "      <th>Random Forest</th>\n",
       "      <td>0.79</td>\n",
       "    </tr>\n",
       "  </tbody>\n",
       "</table>\n",
       "</div>"
      ],
      "text/plain": [
       "                     F1_Score - HS_Individual\n",
       "KNN                                      0.42\n",
       "Logistic Regression                      0.79\n",
       "SVM                                      0.80\n",
       "Complement NB                            0.80\n",
       "Bernoulli NB                             0.78\n",
       "Decision Tree                            0.74\n",
       "Random Forest                            0.79"
      ]
     },
     "execution_count": 86,
     "metadata": {},
     "output_type": "execute_result"
    }
   ],
   "source": [
    "# Individual\n",
    "data_Individual = pd.read_csv('DatasetsOutput/Individual.csv')\n",
    "result_Individual = vector_model(data_Individual, 'HS_Individual', TfidfVectorizer, (1,1))\n",
    "result_Individual"
   ]
  },
  {
   "cell_type": "markdown",
   "id": "1b2fcfc6-f080-456d-a138-74127b18f296",
   "metadata": {},
   "source": [
    "### Score for HS_Group"
   ]
  },
  {
   "cell_type": "code",
   "execution_count": 89,
   "id": "5418e124-2882-4e75-84dc-9c7f8ee8ea65",
   "metadata": {},
   "outputs": [
    {
     "name": "stdout",
     "output_type": "stream",
     "text": [
      "Knn done -> It's classification report for HS_Group \n",
      "               precision    recall  f1-score   support\n",
      "\n",
      "           0       0.52      0.99      0.68       578\n",
      "           1       0.93      0.15      0.26       614\n",
      "\n",
      "    accuracy                           0.56      1192\n",
      "   macro avg       0.73      0.57      0.47      1192\n",
      "weighted avg       0.73      0.56      0.47      1192\n",
      " \n",
      "\n",
      "----------------------------------------------------------------------\n",
      "\n",
      "Lr done -> It's classification report for HS_Group \n",
      "               precision    recall  f1-score   support\n",
      "\n",
      "           0       0.75      0.84      0.79       578\n",
      "           1       0.83      0.73      0.78       614\n",
      "\n",
      "    accuracy                           0.78      1192\n",
      "   macro avg       0.79      0.79      0.78      1192\n",
      "weighted avg       0.79      0.78      0.78      1192\n",
      " \n",
      "\n",
      "----------------------------------------------------------------------\n",
      "\n",
      "\n",
      "svm done -> It's classification report for HS_Group \n",
      "               precision    recall  f1-score   support\n",
      "\n",
      "           0       0.75      0.85      0.80       578\n",
      "           1       0.84      0.74      0.79       614\n",
      "\n",
      "    accuracy                           0.79      1192\n",
      "   macro avg       0.80      0.79      0.79      1192\n",
      "weighted avg       0.80      0.79      0.79      1192\n",
      " \n",
      "\n",
      "----------------------------------------------------------------------\n",
      "\n",
      "\n",
      "cnb done -> It's classification report for HS_Group \n",
      "               precision    recall  f1-score   support\n",
      "\n",
      "           0       0.81      0.69      0.74       578\n",
      "           1       0.74      0.85      0.79       614\n",
      "\n",
      "    accuracy                           0.77      1192\n",
      "   macro avg       0.77      0.77      0.77      1192\n",
      "weighted avg       0.77      0.77      0.77      1192\n",
      " \n",
      "\n",
      "----------------------------------------------------------------------\n",
      "\n",
      "\n",
      "bnb done -> It's classification report for HS_Group \n",
      "               precision    recall  f1-score   support\n",
      "\n",
      "           0       0.79      0.76      0.77       578\n",
      "           1       0.78      0.81      0.80       614\n",
      "\n",
      "    accuracy                           0.79      1192\n",
      "   macro avg       0.79      0.79      0.79      1192\n",
      "weighted avg       0.79      0.79      0.79      1192\n",
      " \n",
      "\n",
      "----------------------------------------------------------------------\n",
      "\n",
      "\n",
      "DT done -> It's classification report for HS_Group \n",
      "               precision    recall  f1-score   support\n",
      "\n",
      "           0       0.74      0.70      0.72       578\n",
      "           1       0.73      0.77      0.75       614\n",
      "\n",
      "    accuracy                           0.74      1192\n",
      "   macro avg       0.74      0.74      0.74      1192\n",
      "weighted avg       0.74      0.74      0.74      1192\n",
      " \n",
      "\n",
      "----------------------------------------------------------------------\n",
      "\n",
      "\n",
      "RF done -> It's classification report for HS_Group \n",
      "               precision    recall  f1-score   support\n",
      "\n",
      "           0       0.77      0.80      0.79       578\n",
      "           1       0.81      0.78      0.79       614\n",
      "\n",
      "    accuracy                           0.79      1192\n",
      "   macro avg       0.79      0.79      0.79      1192\n",
      "weighted avg       0.79      0.79      0.79      1192\n",
      " \n",
      "\n",
      "----------------------------------------------------------------------\n",
      "\n",
      "F1_scores for HS_Group Are calculated\n"
     ]
    },
    {
     "data": {
      "text/html": [
       "<div>\n",
       "<style scoped>\n",
       "    .dataframe tbody tr th:only-of-type {\n",
       "        vertical-align: middle;\n",
       "    }\n",
       "\n",
       "    .dataframe tbody tr th {\n",
       "        vertical-align: top;\n",
       "    }\n",
       "\n",
       "    .dataframe thead th {\n",
       "        text-align: right;\n",
       "    }\n",
       "</style>\n",
       "<table border=\"1\" class=\"dataframe\">\n",
       "  <thead>\n",
       "    <tr style=\"text-align: right;\">\n",
       "      <th></th>\n",
       "      <th>F1_Score - HS_Group</th>\n",
       "    </tr>\n",
       "  </thead>\n",
       "  <tbody>\n",
       "    <tr>\n",
       "      <th>KNN</th>\n",
       "      <td>0.26</td>\n",
       "    </tr>\n",
       "    <tr>\n",
       "      <th>Logistic Regression</th>\n",
       "      <td>0.78</td>\n",
       "    </tr>\n",
       "    <tr>\n",
       "      <th>SVM</th>\n",
       "      <td>0.79</td>\n",
       "    </tr>\n",
       "    <tr>\n",
       "      <th>Complement NB</th>\n",
       "      <td>0.79</td>\n",
       "    </tr>\n",
       "    <tr>\n",
       "      <th>Bernoulli NB</th>\n",
       "      <td>0.80</td>\n",
       "    </tr>\n",
       "    <tr>\n",
       "      <th>Decision Tree</th>\n",
       "      <td>0.75</td>\n",
       "    </tr>\n",
       "    <tr>\n",
       "      <th>Random Forest</th>\n",
       "      <td>0.79</td>\n",
       "    </tr>\n",
       "  </tbody>\n",
       "</table>\n",
       "</div>"
      ],
      "text/plain": [
       "                     F1_Score - HS_Group\n",
       "KNN                                 0.26\n",
       "Logistic Regression                 0.78\n",
       "SVM                                 0.79\n",
       "Complement NB                       0.79\n",
       "Bernoulli NB                        0.80\n",
       "Decision Tree                       0.75\n",
       "Random Forest                       0.79"
      ]
     },
     "execution_count": 89,
     "metadata": {},
     "output_type": "execute_result"
    }
   ],
   "source": [
    "# Group\n",
    "data_Group = pd.read_csv('DatasetsOutput/Group.csv')\n",
    "result_Group = vector_model(data_Group, 'HS_Group', TfidfVectorizer, (1,1))\n",
    "result_Group"
   ]
  },
  {
   "cell_type": "markdown",
   "id": "7b5ec5cc-2333-4631-875c-704267851d7e",
   "metadata": {},
   "source": [
    "### Score for HS_Religion"
   ]
  },
  {
   "cell_type": "code",
   "execution_count": 94,
   "id": "bff047fb-840c-483f-a1eb-2d46a0bef93f",
   "metadata": {},
   "outputs": [
    {
     "name": "stdout",
     "output_type": "stream",
     "text": [
      "Knn done -> It's classification report for HS_Religion \n",
      "               precision    recall  f1-score   support\n",
      "\n",
      "           0       0.53      1.00      0.69       240\n",
      "           1       0.96      0.09      0.17       236\n",
      "\n",
      "    accuracy                           0.55       476\n",
      "   macro avg       0.74      0.54      0.43       476\n",
      "weighted avg       0.74      0.55      0.43       476\n",
      " \n",
      "\n",
      "----------------------------------------------------------------------\n",
      "\n",
      "Lr done -> It's classification report for HS_Religion \n",
      "               precision    recall  f1-score   support\n",
      "\n",
      "           0       0.85      0.90      0.88       240\n",
      "           1       0.90      0.83      0.86       236\n",
      "\n",
      "    accuracy                           0.87       476\n",
      "   macro avg       0.87      0.87      0.87       476\n",
      "weighted avg       0.87      0.87      0.87       476\n",
      " \n",
      "\n",
      "----------------------------------------------------------------------\n",
      "\n",
      "\n",
      "svm done -> It's classification report for HS_Religion \n",
      "               precision    recall  f1-score   support\n",
      "\n",
      "           0       0.82      0.91      0.86       240\n",
      "           1       0.90      0.80      0.85       236\n",
      "\n",
      "    accuracy                           0.86       476\n",
      "   macro avg       0.86      0.85      0.85       476\n",
      "weighted avg       0.86      0.86      0.85       476\n",
      " \n",
      "\n",
      "----------------------------------------------------------------------\n",
      "\n",
      "\n",
      "cnb done -> It's classification report for HS_Religion \n",
      "               precision    recall  f1-score   support\n",
      "\n",
      "           0       0.88      0.76      0.81       240\n",
      "           1       0.78      0.89      0.83       236\n",
      "\n",
      "    accuracy                           0.82       476\n",
      "   macro avg       0.83      0.82      0.82       476\n",
      "weighted avg       0.83      0.82      0.82       476\n",
      " \n",
      "\n",
      "----------------------------------------------------------------------\n",
      "\n",
      "\n",
      "bnb done -> It's classification report for HS_Religion \n",
      "               precision    recall  f1-score   support\n",
      "\n",
      "           0       0.88      0.84      0.86       240\n",
      "           1       0.85      0.89      0.87       236\n",
      "\n",
      "    accuracy                           0.86       476\n",
      "   macro avg       0.86      0.86      0.86       476\n",
      "weighted avg       0.86      0.86      0.86       476\n",
      " \n",
      "\n",
      "----------------------------------------------------------------------\n",
      "\n",
      "\n",
      "DT done -> It's classification report for HS_Religion \n",
      "               precision    recall  f1-score   support\n",
      "\n",
      "           0       0.87      0.86      0.86       240\n",
      "           1       0.86      0.87      0.86       236\n",
      "\n",
      "    accuracy                           0.86       476\n",
      "   macro avg       0.86      0.86      0.86       476\n",
      "weighted avg       0.86      0.86      0.86       476\n",
      " \n",
      "\n",
      "----------------------------------------------------------------------\n",
      "\n",
      "\n",
      "RF done -> It's classification report for HS_Religion \n",
      "               precision    recall  f1-score   support\n",
      "\n",
      "           0       0.87      0.90      0.89       240\n",
      "           1       0.90      0.86      0.88       236\n",
      "\n",
      "    accuracy                           0.88       476\n",
      "   macro avg       0.89      0.88      0.88       476\n",
      "weighted avg       0.88      0.88      0.88       476\n",
      " \n",
      "\n",
      "----------------------------------------------------------------------\n",
      "\n",
      "F1_scores for HS_Religion Are calculated\n"
     ]
    },
    {
     "data": {
      "text/html": [
       "<div>\n",
       "<style scoped>\n",
       "    .dataframe tbody tr th:only-of-type {\n",
       "        vertical-align: middle;\n",
       "    }\n",
       "\n",
       "    .dataframe tbody tr th {\n",
       "        vertical-align: top;\n",
       "    }\n",
       "\n",
       "    .dataframe thead th {\n",
       "        text-align: right;\n",
       "    }\n",
       "</style>\n",
       "<table border=\"1\" class=\"dataframe\">\n",
       "  <thead>\n",
       "    <tr style=\"text-align: right;\">\n",
       "      <th></th>\n",
       "      <th>F1_Score - HS_Religion</th>\n",
       "    </tr>\n",
       "  </thead>\n",
       "  <tbody>\n",
       "    <tr>\n",
       "      <th>KNN</th>\n",
       "      <td>0.17</td>\n",
       "    </tr>\n",
       "    <tr>\n",
       "      <th>Logistic Regression</th>\n",
       "      <td>0.86</td>\n",
       "    </tr>\n",
       "    <tr>\n",
       "      <th>SVM</th>\n",
       "      <td>0.85</td>\n",
       "    </tr>\n",
       "    <tr>\n",
       "      <th>Complement NB</th>\n",
       "      <td>0.83</td>\n",
       "    </tr>\n",
       "    <tr>\n",
       "      <th>Bernoulli NB</th>\n",
       "      <td>0.87</td>\n",
       "    </tr>\n",
       "    <tr>\n",
       "      <th>Decision Tree</th>\n",
       "      <td>0.86</td>\n",
       "    </tr>\n",
       "    <tr>\n",
       "      <th>Random Forest</th>\n",
       "      <td>0.88</td>\n",
       "    </tr>\n",
       "  </tbody>\n",
       "</table>\n",
       "</div>"
      ],
      "text/plain": [
       "                     F1_Score - HS_Religion\n",
       "KNN                                    0.17\n",
       "Logistic Regression                    0.86\n",
       "SVM                                    0.85\n",
       "Complement NB                          0.83\n",
       "Bernoulli NB                           0.87\n",
       "Decision Tree                          0.86\n",
       "Random Forest                          0.88"
      ]
     },
     "execution_count": 94,
     "metadata": {},
     "output_type": "execute_result"
    }
   ],
   "source": [
    "# Religion\n",
    "data_Religion = pd.read_csv('DatasetsOutput/Religion.csv')\n",
    "result_Religion = vector_model(data_Religion, 'HS_Religion', TfidfVectorizer, (1,1))\n",
    "result_Religion"
   ]
  },
  {
   "cell_type": "markdown",
   "id": "70537579-9652-473e-83c5-edc086f04115",
   "metadata": {},
   "source": [
    "### Score for HS_Race"
   ]
  },
  {
   "cell_type": "code",
   "execution_count": 99,
   "id": "c8779570-36c5-4c06-b0b5-36ba01904c24",
   "metadata": {},
   "outputs": [
    {
     "name": "stdout",
     "output_type": "stream",
     "text": [
      "Knn done -> It's classification report for HS_Race \n",
      "               precision    recall  f1-score   support\n",
      "\n",
      "           0       0.49      1.00      0.66       158\n",
      "           1       1.00      0.09      0.17       182\n",
      "\n",
      "    accuracy                           0.51       340\n",
      "   macro avg       0.74      0.55      0.41       340\n",
      "weighted avg       0.76      0.51      0.40       340\n",
      " \n",
      "\n",
      "----------------------------------------------------------------------\n",
      "\n",
      "Lr done -> It's classification report for HS_Race \n",
      "               precision    recall  f1-score   support\n",
      "\n",
      "           0       0.91      0.92      0.92       158\n",
      "           1       0.93      0.92      0.93       182\n",
      "\n",
      "    accuracy                           0.92       340\n",
      "   macro avg       0.92      0.92      0.92       340\n",
      "weighted avg       0.92      0.92      0.92       340\n",
      " \n",
      "\n",
      "----------------------------------------------------------------------\n",
      "\n",
      "\n",
      "svm done -> It's classification report for HS_Race \n",
      "               precision    recall  f1-score   support\n",
      "\n",
      "           0       0.91      0.94      0.92       158\n",
      "           1       0.94      0.92      0.93       182\n",
      "\n",
      "    accuracy                           0.93       340\n",
      "   macro avg       0.93      0.93      0.93       340\n",
      "weighted avg       0.93      0.93      0.93       340\n",
      " \n",
      "\n",
      "----------------------------------------------------------------------\n",
      "\n",
      "\n",
      "cnb done -> It's classification report for HS_Race \n",
      "               precision    recall  f1-score   support\n",
      "\n",
      "           0       0.93      0.77      0.84       158\n",
      "           1       0.82      0.95      0.88       182\n",
      "\n",
      "    accuracy                           0.86       340\n",
      "   macro avg       0.88      0.86      0.86       340\n",
      "weighted avg       0.87      0.86      0.86       340\n",
      " \n",
      "\n",
      "----------------------------------------------------------------------\n",
      "\n",
      "\n",
      "bnb done -> It's classification report for HS_Race \n",
      "               precision    recall  f1-score   support\n",
      "\n",
      "           0       0.94      0.82      0.88       158\n",
      "           1       0.86      0.95      0.90       182\n",
      "\n",
      "    accuracy                           0.89       340\n",
      "   macro avg       0.90      0.89      0.89       340\n",
      "weighted avg       0.90      0.89      0.89       340\n",
      " \n",
      "\n",
      "----------------------------------------------------------------------\n",
      "\n",
      "\n",
      "DT done -> It's classification report for HS_Race \n",
      "               precision    recall  f1-score   support\n",
      "\n",
      "           0       0.97      0.89      0.93       158\n",
      "           1       0.91      0.98      0.94       182\n",
      "\n",
      "    accuracy                           0.94       340\n",
      "   macro avg       0.94      0.94      0.94       340\n",
      "weighted avg       0.94      0.94      0.94       340\n",
      " \n",
      "\n",
      "----------------------------------------------------------------------\n",
      "\n",
      "\n",
      "RF done -> It's classification report for HS_Race \n",
      "               precision    recall  f1-score   support\n",
      "\n",
      "           0       0.94      0.92      0.93       158\n",
      "           1       0.94      0.95      0.94       182\n",
      "\n",
      "    accuracy                           0.94       340\n",
      "   macro avg       0.94      0.94      0.94       340\n",
      "weighted avg       0.94      0.94      0.94       340\n",
      " \n",
      "\n",
      "----------------------------------------------------------------------\n",
      "\n",
      "F1_scores for HS_Race Are calculated\n"
     ]
    },
    {
     "data": {
      "text/html": [
       "<div>\n",
       "<style scoped>\n",
       "    .dataframe tbody tr th:only-of-type {\n",
       "        vertical-align: middle;\n",
       "    }\n",
       "\n",
       "    .dataframe tbody tr th {\n",
       "        vertical-align: top;\n",
       "    }\n",
       "\n",
       "    .dataframe thead th {\n",
       "        text-align: right;\n",
       "    }\n",
       "</style>\n",
       "<table border=\"1\" class=\"dataframe\">\n",
       "  <thead>\n",
       "    <tr style=\"text-align: right;\">\n",
       "      <th></th>\n",
       "      <th>F1_Score - HS_Race</th>\n",
       "    </tr>\n",
       "  </thead>\n",
       "  <tbody>\n",
       "    <tr>\n",
       "      <th>KNN</th>\n",
       "      <td>0.17</td>\n",
       "    </tr>\n",
       "    <tr>\n",
       "      <th>Logistic Regression</th>\n",
       "      <td>0.93</td>\n",
       "    </tr>\n",
       "    <tr>\n",
       "      <th>SVM</th>\n",
       "      <td>0.93</td>\n",
       "    </tr>\n",
       "    <tr>\n",
       "      <th>Complement NB</th>\n",
       "      <td>0.88</td>\n",
       "    </tr>\n",
       "    <tr>\n",
       "      <th>Bernoulli NB</th>\n",
       "      <td>0.90</td>\n",
       "    </tr>\n",
       "    <tr>\n",
       "      <th>Decision Tree</th>\n",
       "      <td>0.94</td>\n",
       "    </tr>\n",
       "    <tr>\n",
       "      <th>Random Forest</th>\n",
       "      <td>0.94</td>\n",
       "    </tr>\n",
       "  </tbody>\n",
       "</table>\n",
       "</div>"
      ],
      "text/plain": [
       "                     F1_Score - HS_Race\n",
       "KNN                                0.17\n",
       "Logistic Regression                0.93\n",
       "SVM                                0.93\n",
       "Complement NB                      0.88\n",
       "Bernoulli NB                       0.90\n",
       "Decision Tree                      0.94\n",
       "Random Forest                      0.94"
      ]
     },
     "execution_count": 99,
     "metadata": {},
     "output_type": "execute_result"
    }
   ],
   "source": [
    "# Race\n",
    "data_Race = pd.read_csv('DatasetsOutput/Race.csv')\n",
    "result_Race = vector_model(data_Race, 'HS_Race', TfidfVectorizer, (1,1))\n",
    "result_Race"
   ]
  },
  {
   "cell_type": "markdown",
   "id": "62717d53-64b8-4a5e-8b00-9e67c026656d",
   "metadata": {},
   "source": [
    "Score for HS_Physical"
   ]
  },
  {
   "cell_type": "code",
   "execution_count": 104,
   "id": "33af9670-467f-40aa-a23a-a1e801646325",
   "metadata": {},
   "outputs": [
    {
     "name": "stdout",
     "output_type": "stream",
     "text": [
      "Knn done -> It's classification report for HS_Physical \n",
      "               precision    recall  f1-score   support\n",
      "\n",
      "           0       0.49      1.00      0.66        88\n",
      "           1       1.00      0.13      0.23       106\n",
      "\n",
      "    accuracy                           0.53       194\n",
      "   macro avg       0.74      0.57      0.45       194\n",
      "weighted avg       0.77      0.53      0.43       194\n",
      " \n",
      "\n",
      "----------------------------------------------------------------------\n",
      "\n",
      "Lr done -> It's classification report for HS_Physical \n",
      "               precision    recall  f1-score   support\n",
      "\n",
      "           0       0.71      0.83      0.76        88\n",
      "           1       0.84      0.72      0.77       106\n",
      "\n",
      "    accuracy                           0.77       194\n",
      "   macro avg       0.77      0.77      0.77       194\n",
      "weighted avg       0.78      0.77      0.77       194\n",
      " \n",
      "\n",
      "----------------------------------------------------------------------\n",
      "\n",
      "\n",
      "svm done -> It's classification report for HS_Physical \n",
      "               precision    recall  f1-score   support\n",
      "\n",
      "           0       0.71      0.83      0.76        88\n",
      "           1       0.84      0.72      0.77       106\n",
      "\n",
      "    accuracy                           0.77       194\n",
      "   macro avg       0.77      0.77      0.77       194\n",
      "weighted avg       0.78      0.77      0.77       194\n",
      " \n",
      "\n",
      "----------------------------------------------------------------------\n",
      "\n",
      "\n",
      "cnb done -> It's classification report for HS_Physical \n",
      "               precision    recall  f1-score   support\n",
      "\n",
      "           0       0.89      0.65      0.75        88\n",
      "           1       0.76      0.93      0.84       106\n",
      "\n",
      "    accuracy                           0.80       194\n",
      "   macro avg       0.83      0.79      0.79       194\n",
      "weighted avg       0.82      0.80      0.80       194\n",
      " \n",
      "\n",
      "----------------------------------------------------------------------\n",
      "\n",
      "\n",
      "bnb done -> It's classification report for HS_Physical \n",
      "               precision    recall  f1-score   support\n",
      "\n",
      "           0       0.89      0.55      0.68        88\n",
      "           1       0.71      0.94      0.81       106\n",
      "\n",
      "    accuracy                           0.76       194\n",
      "   macro avg       0.80      0.74      0.74       194\n",
      "weighted avg       0.79      0.76      0.75       194\n",
      " \n",
      "\n",
      "----------------------------------------------------------------------\n",
      "\n",
      "\n",
      "DT done -> It's classification report for HS_Physical \n",
      "               precision    recall  f1-score   support\n",
      "\n",
      "           0       0.83      0.91      0.87        88\n",
      "           1       0.92      0.85      0.88       106\n",
      "\n",
      "    accuracy                           0.88       194\n",
      "   macro avg       0.88      0.88      0.88       194\n",
      "weighted avg       0.88      0.88      0.88       194\n",
      " \n",
      "\n",
      "----------------------------------------------------------------------\n",
      "\n",
      "\n",
      "RF done -> It's classification report for HS_Physical \n",
      "               precision    recall  f1-score   support\n",
      "\n",
      "           0       0.79      0.90      0.84        88\n",
      "           1       0.90      0.80      0.85       106\n",
      "\n",
      "    accuracy                           0.85       194\n",
      "   macro avg       0.85      0.85      0.85       194\n",
      "weighted avg       0.85      0.85      0.85       194\n",
      " \n",
      "\n",
      "----------------------------------------------------------------------\n",
      "\n",
      "F1_scores for HS_Physical Are calculated\n"
     ]
    },
    {
     "data": {
      "text/html": [
       "<div>\n",
       "<style scoped>\n",
       "    .dataframe tbody tr th:only-of-type {\n",
       "        vertical-align: middle;\n",
       "    }\n",
       "\n",
       "    .dataframe tbody tr th {\n",
       "        vertical-align: top;\n",
       "    }\n",
       "\n",
       "    .dataframe thead th {\n",
       "        text-align: right;\n",
       "    }\n",
       "</style>\n",
       "<table border=\"1\" class=\"dataframe\">\n",
       "  <thead>\n",
       "    <tr style=\"text-align: right;\">\n",
       "      <th></th>\n",
       "      <th>F1_Score - HS_Physical</th>\n",
       "    </tr>\n",
       "  </thead>\n",
       "  <tbody>\n",
       "    <tr>\n",
       "      <th>KNN</th>\n",
       "      <td>0.23</td>\n",
       "    </tr>\n",
       "    <tr>\n",
       "      <th>Logistic Regression</th>\n",
       "      <td>0.77</td>\n",
       "    </tr>\n",
       "    <tr>\n",
       "      <th>SVM</th>\n",
       "      <td>0.77</td>\n",
       "    </tr>\n",
       "    <tr>\n",
       "      <th>Complement NB</th>\n",
       "      <td>0.84</td>\n",
       "    </tr>\n",
       "    <tr>\n",
       "      <th>Bernoulli NB</th>\n",
       "      <td>0.81</td>\n",
       "    </tr>\n",
       "    <tr>\n",
       "      <th>Decision Tree</th>\n",
       "      <td>0.88</td>\n",
       "    </tr>\n",
       "    <tr>\n",
       "      <th>Random Forest</th>\n",
       "      <td>0.85</td>\n",
       "    </tr>\n",
       "  </tbody>\n",
       "</table>\n",
       "</div>"
      ],
      "text/plain": [
       "                     F1_Score - HS_Physical\n",
       "KNN                                    0.23\n",
       "Logistic Regression                    0.77\n",
       "SVM                                    0.77\n",
       "Complement NB                          0.84\n",
       "Bernoulli NB                           0.81\n",
       "Decision Tree                          0.88\n",
       "Random Forest                          0.85"
      ]
     },
     "execution_count": 104,
     "metadata": {},
     "output_type": "execute_result"
    }
   ],
   "source": [
    "# Physical\n",
    "data_Physical = pd.read_csv('DatasetsOutput/Physical.csv')\n",
    "result_Physical = vector_model(data_Physical, 'HS_Physical', TfidfVectorizer, (1,1))\n",
    "result_Physical"
   ]
  },
  {
   "cell_type": "markdown",
   "id": "9412b907-ab15-4def-8bee-2ac2cdee2411",
   "metadata": {},
   "source": [
    "### Score for HS_Other"
   ]
  },
  {
   "cell_type": "code",
   "execution_count": 146,
   "id": "dc40f6dc-50b6-46e4-9b90-afe33371a29d",
   "metadata": {},
   "outputs": [
    {
     "name": "stdout",
     "output_type": "stream",
     "text": [
      "Knn done -> It's classification report for HS_Other \n",
      "               precision    recall  f1-score   support\n",
      "\n",
      "           0       0.82      0.17      0.28      1118\n",
      "           1       0.54      0.96      0.69      1126\n",
      "\n",
      "    accuracy                           0.57      2244\n",
      "   macro avg       0.68      0.57      0.49      2244\n",
      "weighted avg       0.68      0.57      0.49      2244\n",
      " \n",
      "\n",
      "----------------------------------------------------------------------\n",
      "\n",
      "Lr done -> It's classification report for HS_Other \n",
      "               precision    recall  f1-score   support\n",
      "\n",
      "           0       0.84      0.84      0.84      1118\n",
      "           1       0.84      0.85      0.84      1126\n",
      "\n",
      "    accuracy                           0.84      2244\n",
      "   macro avg       0.84      0.84      0.84      2244\n",
      "weighted avg       0.84      0.84      0.84      2244\n",
      " \n",
      "\n",
      "----------------------------------------------------------------------\n",
      "\n",
      "\n",
      "svm done -> It's classification report for HS_Other \n",
      "               precision    recall  f1-score   support\n",
      "\n",
      "           0       0.84      0.83      0.84      1118\n",
      "           1       0.84      0.85      0.84      1126\n",
      "\n",
      "    accuracy                           0.84      2244\n",
      "   macro avg       0.84      0.84      0.84      2244\n",
      "weighted avg       0.84      0.84      0.84      2244\n",
      " \n",
      "\n",
      "----------------------------------------------------------------------\n",
      "\n",
      "\n",
      "cnb done -> It's classification report for HS_Other \n",
      "               precision    recall  f1-score   support\n",
      "\n",
      "           0       0.88      0.75      0.81      1118\n",
      "           1       0.78      0.90      0.84      1126\n",
      "\n",
      "    accuracy                           0.82      2244\n",
      "   macro avg       0.83      0.82      0.82      2244\n",
      "weighted avg       0.83      0.82      0.82      2244\n",
      " \n",
      "\n",
      "----------------------------------------------------------------------\n",
      "\n",
      "\n",
      "bnb done -> It's classification report for HS_Other \n",
      "               precision    recall  f1-score   support\n",
      "\n",
      "           0       0.90      0.67      0.77      1118\n",
      "           1       0.74      0.92      0.82      1126\n",
      "\n",
      "    accuracy                           0.80      2244\n",
      "   macro avg       0.82      0.80      0.79      2244\n",
      "weighted avg       0.82      0.80      0.79      2244\n",
      " \n",
      "\n",
      "----------------------------------------------------------------------\n",
      "\n",
      "\n",
      "DT done -> It's classification report for HS_Other \n",
      "               precision    recall  f1-score   support\n",
      "\n",
      "           0       0.78      0.74      0.76      1118\n",
      "           1       0.75      0.80      0.77      1126\n",
      "\n",
      "    accuracy                           0.77      2244\n",
      "   macro avg       0.77      0.77      0.77      2244\n",
      "weighted avg       0.77      0.77      0.77      2244\n",
      " \n",
      "\n",
      "----------------------------------------------------------------------\n",
      "\n",
      "\n",
      "RF done -> It's classification report for HS_Other \n",
      "               precision    recall  f1-score   support\n",
      "\n",
      "           0       0.84      0.80      0.82      1118\n",
      "           1       0.81      0.85      0.83      1126\n",
      "\n",
      "    accuracy                           0.82      2244\n",
      "   macro avg       0.83      0.82      0.82      2244\n",
      "weighted avg       0.82      0.82      0.82      2244\n",
      " \n",
      "\n",
      "----------------------------------------------------------------------\n",
      "\n",
      "F1_scores for HS_Other Are calculated\n"
     ]
    },
    {
     "data": {
      "text/html": [
       "<div>\n",
       "<style scoped>\n",
       "    .dataframe tbody tr th:only-of-type {\n",
       "        vertical-align: middle;\n",
       "    }\n",
       "\n",
       "    .dataframe tbody tr th {\n",
       "        vertical-align: top;\n",
       "    }\n",
       "\n",
       "    .dataframe thead th {\n",
       "        text-align: right;\n",
       "    }\n",
       "</style>\n",
       "<table border=\"1\" class=\"dataframe\">\n",
       "  <thead>\n",
       "    <tr style=\"text-align: right;\">\n",
       "      <th></th>\n",
       "      <th>F1_Score - HS_Other</th>\n",
       "    </tr>\n",
       "  </thead>\n",
       "  <tbody>\n",
       "    <tr>\n",
       "      <th>KNN</th>\n",
       "      <td>0.69</td>\n",
       "    </tr>\n",
       "    <tr>\n",
       "      <th>Logistic Regression</th>\n",
       "      <td>0.84</td>\n",
       "    </tr>\n",
       "    <tr>\n",
       "      <th>SVM</th>\n",
       "      <td>0.84</td>\n",
       "    </tr>\n",
       "    <tr>\n",
       "      <th>Complement NB</th>\n",
       "      <td>0.84</td>\n",
       "    </tr>\n",
       "    <tr>\n",
       "      <th>Bernoulli NB</th>\n",
       "      <td>0.82</td>\n",
       "    </tr>\n",
       "    <tr>\n",
       "      <th>Decision Tree</th>\n",
       "      <td>0.77</td>\n",
       "    </tr>\n",
       "    <tr>\n",
       "      <th>Random Forest</th>\n",
       "      <td>0.83</td>\n",
       "    </tr>\n",
       "  </tbody>\n",
       "</table>\n",
       "</div>"
      ],
      "text/plain": [
       "                     F1_Score - HS_Other\n",
       "KNN                                 0.69\n",
       "Logistic Regression                 0.84\n",
       "SVM                                 0.84\n",
       "Complement NB                       0.84\n",
       "Bernoulli NB                        0.82\n",
       "Decision Tree                       0.77\n",
       "Random Forest                       0.83"
      ]
     },
     "execution_count": 146,
     "metadata": {},
     "output_type": "execute_result"
    }
   ],
   "source": [
    "# Other\n",
    "data_Other = pd.read_csv('DatasetsOutput/Other.csv')\n",
    "result_Other = vector_model(data_Other, 'HS_Other', TfidfVectorizer, (1,1))\n",
    "result_Other"
   ]
  },
  {
   "cell_type": "markdown",
   "id": "d26089d1-9ed4-4f6a-afb3-8836bab990a5",
   "metadata": {},
   "source": [
    "### Score for HS_Weak"
   ]
  },
  {
   "cell_type": "code",
   "execution_count": 110,
   "id": "21091906-b844-462c-b03a-9c64747a096e",
   "metadata": {},
   "outputs": [
    {
     "name": "stdout",
     "output_type": "stream",
     "text": [
      "Knn done -> It's classification report for HS_Gender \n",
      "               precision    recall  f1-score   support\n",
      "\n",
      "           0       0.46      1.00      0.63        80\n",
      "           1       1.00      0.09      0.16       104\n",
      "\n",
      "    accuracy                           0.48       184\n",
      "   macro avg       0.73      0.54      0.39       184\n",
      "weighted avg       0.76      0.48      0.36       184\n",
      " \n",
      "\n",
      "----------------------------------------------------------------------\n",
      "\n",
      "Lr done -> It's classification report for HS_Gender \n",
      "               precision    recall  f1-score   support\n",
      "\n",
      "           0       0.77      0.79      0.78        80\n",
      "           1       0.83      0.82      0.83       104\n",
      "\n",
      "    accuracy                           0.80       184\n",
      "   macro avg       0.80      0.80      0.80       184\n",
      "weighted avg       0.81      0.80      0.80       184\n",
      " \n",
      "\n",
      "----------------------------------------------------------------------\n",
      "\n",
      "\n",
      "svm done -> It's classification report for HS_Gender \n",
      "               precision    recall  f1-score   support\n",
      "\n",
      "           0       0.73      0.78      0.75        80\n",
      "           1       0.82      0.78      0.80       104\n",
      "\n",
      "    accuracy                           0.78       184\n",
      "   macro avg       0.77      0.78      0.77       184\n",
      "weighted avg       0.78      0.78      0.78       184\n",
      " \n",
      "\n",
      "----------------------------------------------------------------------\n",
      "\n",
      "\n",
      "cnb done -> It's classification report for HS_Gender \n",
      "               precision    recall  f1-score   support\n",
      "\n",
      "           0       0.91      0.60      0.72        80\n",
      "           1       0.76      0.95      0.84       104\n",
      "\n",
      "    accuracy                           0.80       184\n",
      "   macro avg       0.83      0.78      0.78       184\n",
      "weighted avg       0.82      0.80      0.79       184\n",
      " \n",
      "\n",
      "----------------------------------------------------------------------\n",
      "\n",
      "\n",
      "bnb done -> It's classification report for HS_Gender \n",
      "               precision    recall  f1-score   support\n",
      "\n",
      "           0       0.92      0.61      0.74        80\n",
      "           1       0.76      0.96      0.85       104\n",
      "\n",
      "    accuracy                           0.81       184\n",
      "   macro avg       0.84      0.79      0.79       184\n",
      "weighted avg       0.83      0.81      0.80       184\n",
      " \n",
      "\n",
      "----------------------------------------------------------------------\n",
      "\n",
      "\n",
      "DT done -> It's classification report for HS_Gender \n",
      "               precision    recall  f1-score   support\n",
      "\n",
      "           0       0.83      0.86      0.85        80\n",
      "           1       0.89      0.87      0.88       104\n",
      "\n",
      "    accuracy                           0.86       184\n",
      "   macro avg       0.86      0.86      0.86       184\n",
      "weighted avg       0.87      0.86      0.86       184\n",
      " \n",
      "\n",
      "----------------------------------------------------------------------\n",
      "\n",
      "\n",
      "RF done -> It's classification report for HS_Gender \n",
      "               precision    recall  f1-score   support\n",
      "\n",
      "           0       0.76      0.90      0.82        80\n",
      "           1       0.91      0.78      0.84       104\n",
      "\n",
      "    accuracy                           0.83       184\n",
      "   macro avg       0.83      0.84      0.83       184\n",
      "weighted avg       0.84      0.83      0.83       184\n",
      " \n",
      "\n",
      "----------------------------------------------------------------------\n",
      "\n",
      "F1_scores for HS_Gender Are calculated\n"
     ]
    },
    {
     "data": {
      "text/html": [
       "<div>\n",
       "<style scoped>\n",
       "    .dataframe tbody tr th:only-of-type {\n",
       "        vertical-align: middle;\n",
       "    }\n",
       "\n",
       "    .dataframe tbody tr th {\n",
       "        vertical-align: top;\n",
       "    }\n",
       "\n",
       "    .dataframe thead th {\n",
       "        text-align: right;\n",
       "    }\n",
       "</style>\n",
       "<table border=\"1\" class=\"dataframe\">\n",
       "  <thead>\n",
       "    <tr style=\"text-align: right;\">\n",
       "      <th></th>\n",
       "      <th>F1_Score - HS_Gender</th>\n",
       "    </tr>\n",
       "  </thead>\n",
       "  <tbody>\n",
       "    <tr>\n",
       "      <th>KNN</th>\n",
       "      <td>0.16</td>\n",
       "    </tr>\n",
       "    <tr>\n",
       "      <th>Logistic Regression</th>\n",
       "      <td>0.83</td>\n",
       "    </tr>\n",
       "    <tr>\n",
       "      <th>SVM</th>\n",
       "      <td>0.80</td>\n",
       "    </tr>\n",
       "    <tr>\n",
       "      <th>Complement NB</th>\n",
       "      <td>0.84</td>\n",
       "    </tr>\n",
       "    <tr>\n",
       "      <th>Bernoulli NB</th>\n",
       "      <td>0.85</td>\n",
       "    </tr>\n",
       "    <tr>\n",
       "      <th>Decision Tree</th>\n",
       "      <td>0.88</td>\n",
       "    </tr>\n",
       "    <tr>\n",
       "      <th>Random Forest</th>\n",
       "      <td>0.84</td>\n",
       "    </tr>\n",
       "  </tbody>\n",
       "</table>\n",
       "</div>"
      ],
      "text/plain": [
       "                     F1_Score - HS_Gender\n",
       "KNN                                  0.16\n",
       "Logistic Regression                  0.83\n",
       "SVM                                  0.80\n",
       "Complement NB                        0.84\n",
       "Bernoulli NB                         0.85\n",
       "Decision Tree                        0.88\n",
       "Random Forest                        0.84"
      ]
     },
     "execution_count": 110,
     "metadata": {},
     "output_type": "execute_result"
    }
   ],
   "source": [
    "# Gender\n",
    "data_Gender = pd.read_csv('DatasetsOutput/Gender.csv')\n",
    "result_Gender = vector_model(data_Gender, 'HS_Gender', TfidfVectorizer, (1,1))\n",
    "result_Gender"
   ]
  },
  {
   "cell_type": "markdown",
   "id": "5ee4a378-8444-40d8-9927-b0534202d05a",
   "metadata": {},
   "source": [
    "### Score for HS_Other"
   ]
  },
  {
   "cell_type": "code",
   "execution_count": 141,
   "id": "372049c7-60dd-4496-b628-2d4d45231294",
   "metadata": {},
   "outputs": [
    {
     "name": "stdout",
     "output_type": "stream",
     "text": [
      "Knn done -> It's classification report for HS_Weak \n",
      "               precision    recall  f1-score   support\n",
      "\n",
      "           0       0.52      0.94      0.67       995\n",
      "           1       0.74      0.17      0.28      1035\n",
      "\n",
      "    accuracy                           0.55      2030\n",
      "   macro avg       0.63      0.55      0.47      2030\n",
      "weighted avg       0.63      0.55      0.47      2030\n",
      " \n",
      "\n",
      "----------------------------------------------------------------------\n",
      "\n",
      "Lr done -> It's classification report for HS_Weak \n",
      "               precision    recall  f1-score   support\n",
      "\n",
      "           0       0.77      0.78      0.77       995\n",
      "           1       0.78      0.77      0.78      1035\n",
      "\n",
      "    accuracy                           0.78      2030\n",
      "   macro avg       0.78      0.78      0.78      2030\n",
      "weighted avg       0.78      0.78      0.78      2030\n",
      " \n",
      "\n",
      "----------------------------------------------------------------------\n",
      "\n",
      "\n",
      "svm done -> It's classification report for HS_Weak \n",
      "               precision    recall  f1-score   support\n",
      "\n",
      "           0       0.77      0.78      0.77       995\n",
      "           1       0.78      0.77      0.78      1035\n",
      "\n",
      "    accuracy                           0.78      2030\n",
      "   macro avg       0.78      0.78      0.78      2030\n",
      "weighted avg       0.78      0.78      0.78      2030\n",
      " \n",
      "\n",
      "----------------------------------------------------------------------\n",
      "\n",
      "\n",
      "cnb done -> It's classification report for HS_Weak \n",
      "               precision    recall  f1-score   support\n",
      "\n",
      "           0       0.80      0.68      0.73       995\n",
      "           1       0.73      0.84      0.78      1035\n",
      "\n",
      "    accuracy                           0.76      2030\n",
      "   macro avg       0.77      0.76      0.76      2030\n",
      "weighted avg       0.77      0.76      0.76      2030\n",
      " \n",
      "\n",
      "----------------------------------------------------------------------\n",
      "\n",
      "\n",
      "bnb done -> It's classification report for HS_Weak \n",
      "               precision    recall  f1-score   support\n",
      "\n",
      "           0       0.82      0.57      0.67       995\n",
      "           1       0.68      0.88      0.77      1035\n",
      "\n",
      "    accuracy                           0.73      2030\n",
      "   macro avg       0.75      0.73      0.72      2030\n",
      "weighted avg       0.75      0.73      0.72      2030\n",
      " \n",
      "\n",
      "----------------------------------------------------------------------\n",
      "\n",
      "\n",
      "DT done -> It's classification report for HS_Weak \n",
      "               precision    recall  f1-score   support\n",
      "\n",
      "           0       0.73      0.70      0.71       995\n",
      "           1       0.72      0.75      0.74      1035\n",
      "\n",
      "    accuracy                           0.73      2030\n",
      "   macro avg       0.73      0.73      0.73      2030\n",
      "weighted avg       0.73      0.73      0.73      2030\n",
      " \n",
      "\n",
      "----------------------------------------------------------------------\n",
      "\n",
      "\n",
      "RF done -> It's classification report for HS_Weak \n",
      "               precision    recall  f1-score   support\n",
      "\n",
      "           0       0.77      0.76      0.76       995\n",
      "           1       0.77      0.78      0.78      1035\n",
      "\n",
      "    accuracy                           0.77      2030\n",
      "   macro avg       0.77      0.77      0.77      2030\n",
      "weighted avg       0.77      0.77      0.77      2030\n",
      " \n",
      "\n",
      "----------------------------------------------------------------------\n",
      "\n",
      "F1_scores for HS_Weak Are calculated\n"
     ]
    },
    {
     "data": {
      "text/html": [
       "<div>\n",
       "<style scoped>\n",
       "    .dataframe tbody tr th:only-of-type {\n",
       "        vertical-align: middle;\n",
       "    }\n",
       "\n",
       "    .dataframe tbody tr th {\n",
       "        vertical-align: top;\n",
       "    }\n",
       "\n",
       "    .dataframe thead th {\n",
       "        text-align: right;\n",
       "    }\n",
       "</style>\n",
       "<table border=\"1\" class=\"dataframe\">\n",
       "  <thead>\n",
       "    <tr style=\"text-align: right;\">\n",
       "      <th></th>\n",
       "      <th>F1_Score - HS_Weak</th>\n",
       "    </tr>\n",
       "  </thead>\n",
       "  <tbody>\n",
       "    <tr>\n",
       "      <th>KNN</th>\n",
       "      <td>0.28</td>\n",
       "    </tr>\n",
       "    <tr>\n",
       "      <th>Logistic Regression</th>\n",
       "      <td>0.78</td>\n",
       "    </tr>\n",
       "    <tr>\n",
       "      <th>SVM</th>\n",
       "      <td>0.78</td>\n",
       "    </tr>\n",
       "    <tr>\n",
       "      <th>Complement NB</th>\n",
       "      <td>0.78</td>\n",
       "    </tr>\n",
       "    <tr>\n",
       "      <th>Bernoulli NB</th>\n",
       "      <td>0.77</td>\n",
       "    </tr>\n",
       "    <tr>\n",
       "      <th>Decision Tree</th>\n",
       "      <td>0.74</td>\n",
       "    </tr>\n",
       "    <tr>\n",
       "      <th>Random Forest</th>\n",
       "      <td>0.78</td>\n",
       "    </tr>\n",
       "  </tbody>\n",
       "</table>\n",
       "</div>"
      ],
      "text/plain": [
       "                     F1_Score - HS_Weak\n",
       "KNN                                0.28\n",
       "Logistic Regression                0.78\n",
       "SVM                                0.78\n",
       "Complement NB                      0.78\n",
       "Bernoulli NB                       0.77\n",
       "Decision Tree                      0.74\n",
       "Random Forest                      0.78"
      ]
     },
     "execution_count": 141,
     "metadata": {},
     "output_type": "execute_result"
    }
   ],
   "source": [
    "# Weak\n",
    "data_Weak = pd.read_csv('DatasetsOutput/Weak.csv')\n",
    "result_Weak = vector_model(data_Weak, 'HS_Weak', TfidfVectorizer, (1,1))\n",
    "result_Weak"
   ]
  },
  {
   "cell_type": "markdown",
   "id": "ece685f9-f921-420a-be1e-d0bf1e89f9b4",
   "metadata": {},
   "source": [
    "### Score for HS_Moderate"
   ]
  },
  {
   "cell_type": "code",
   "execution_count": 117,
   "id": "ae1cfa25-3cd0-4ea8-8fb2-6a267f57a620",
   "metadata": {},
   "outputs": [
    {
     "name": "stdout",
     "output_type": "stream",
     "text": [
      "Knn done -> It's classification report for HS_Moderate \n",
      "               precision    recall  f1-score   support\n",
      "\n",
      "           0       0.51      0.95      0.66       502\n",
      "           1       0.72      0.11      0.20       521\n",
      "\n",
      "    accuracy                           0.53      1023\n",
      "   macro avg       0.61      0.53      0.43      1023\n",
      "weighted avg       0.62      0.53      0.43      1023\n",
      " \n",
      "\n",
      "----------------------------------------------------------------------\n",
      "\n",
      "Lr done -> It's classification report for HS_Moderate \n",
      "               precision    recall  f1-score   support\n",
      "\n",
      "           0       0.73      0.80      0.76       502\n",
      "           1       0.78      0.71      0.75       521\n",
      "\n",
      "    accuracy                           0.75      1023\n",
      "   macro avg       0.76      0.75      0.75      1023\n",
      "weighted avg       0.76      0.75      0.75      1023\n",
      " \n",
      "\n",
      "----------------------------------------------------------------------\n",
      "\n",
      "\n",
      "svm done -> It's classification report for HS_Moderate \n",
      "               precision    recall  f1-score   support\n",
      "\n",
      "           0       0.72      0.79      0.76       502\n",
      "           1       0.78      0.71      0.74       521\n",
      "\n",
      "    accuracy                           0.75      1023\n",
      "   macro avg       0.75      0.75      0.75      1023\n",
      "weighted avg       0.75      0.75      0.75      1023\n",
      " \n",
      "\n",
      "----------------------------------------------------------------------\n",
      "\n",
      "\n",
      "cnb done -> It's classification report for HS_Moderate \n",
      "               precision    recall  f1-score   support\n",
      "\n",
      "           0       0.79      0.65      0.71       502\n",
      "           1       0.71      0.84      0.77       521\n",
      "\n",
      "    accuracy                           0.74      1023\n",
      "   macro avg       0.75      0.74      0.74      1023\n",
      "weighted avg       0.75      0.74      0.74      1023\n",
      " \n",
      "\n",
      "----------------------------------------------------------------------\n",
      "\n",
      "\n",
      "bnb done -> It's classification report for HS_Moderate \n",
      "               precision    recall  f1-score   support\n",
      "\n",
      "           0       0.78      0.72      0.75       502\n",
      "           1       0.75      0.81      0.78       521\n",
      "\n",
      "    accuracy                           0.76      1023\n",
      "   macro avg       0.77      0.76      0.76      1023\n",
      "weighted avg       0.77      0.76      0.76      1023\n",
      " \n",
      "\n",
      "----------------------------------------------------------------------\n",
      "\n",
      "\n",
      "DT done -> It's classification report for HS_Moderate \n",
      "               precision    recall  f1-score   support\n",
      "\n",
      "           0       0.68      0.71      0.70       502\n",
      "           1       0.71      0.68      0.70       521\n",
      "\n",
      "    accuracy                           0.70      1023\n",
      "   macro avg       0.70      0.70      0.70      1023\n",
      "weighted avg       0.70      0.70      0.70      1023\n",
      " \n",
      "\n",
      "----------------------------------------------------------------------\n",
      "\n",
      "\n",
      "RF done -> It's classification report for HS_Moderate \n",
      "               precision    recall  f1-score   support\n",
      "\n",
      "           0       0.73      0.78      0.75       502\n",
      "           1       0.77      0.72      0.75       521\n",
      "\n",
      "    accuracy                           0.75      1023\n",
      "   macro avg       0.75      0.75      0.75      1023\n",
      "weighted avg       0.75      0.75      0.75      1023\n",
      " \n",
      "\n",
      "----------------------------------------------------------------------\n",
      "\n",
      "F1_scores for HS_Moderate Are calculated\n"
     ]
    },
    {
     "data": {
      "text/html": [
       "<div>\n",
       "<style scoped>\n",
       "    .dataframe tbody tr th:only-of-type {\n",
       "        vertical-align: middle;\n",
       "    }\n",
       "\n",
       "    .dataframe tbody tr th {\n",
       "        vertical-align: top;\n",
       "    }\n",
       "\n",
       "    .dataframe thead th {\n",
       "        text-align: right;\n",
       "    }\n",
       "</style>\n",
       "<table border=\"1\" class=\"dataframe\">\n",
       "  <thead>\n",
       "    <tr style=\"text-align: right;\">\n",
       "      <th></th>\n",
       "      <th>F1_Score - HS_Moderate</th>\n",
       "    </tr>\n",
       "  </thead>\n",
       "  <tbody>\n",
       "    <tr>\n",
       "      <th>KNN</th>\n",
       "      <td>0.20</td>\n",
       "    </tr>\n",
       "    <tr>\n",
       "      <th>Logistic Regression</th>\n",
       "      <td>0.75</td>\n",
       "    </tr>\n",
       "    <tr>\n",
       "      <th>SVM</th>\n",
       "      <td>0.74</td>\n",
       "    </tr>\n",
       "    <tr>\n",
       "      <th>Complement NB</th>\n",
       "      <td>0.77</td>\n",
       "    </tr>\n",
       "    <tr>\n",
       "      <th>Bernoulli NB</th>\n",
       "      <td>0.78</td>\n",
       "    </tr>\n",
       "    <tr>\n",
       "      <th>Decision Tree</th>\n",
       "      <td>0.70</td>\n",
       "    </tr>\n",
       "    <tr>\n",
       "      <th>Random Forest</th>\n",
       "      <td>0.75</td>\n",
       "    </tr>\n",
       "  </tbody>\n",
       "</table>\n",
       "</div>"
      ],
      "text/plain": [
       "                     F1_Score - HS_Moderate\n",
       "KNN                                    0.20\n",
       "Logistic Regression                    0.75\n",
       "SVM                                    0.74\n",
       "Complement NB                          0.77\n",
       "Bernoulli NB                           0.78\n",
       "Decision Tree                          0.70\n",
       "Random Forest                          0.75"
      ]
     },
     "execution_count": 117,
     "metadata": {},
     "output_type": "execute_result"
    }
   ],
   "source": [
    "# Moderate\n",
    "data_Moderate = pd.read_csv('DatasetsOutput/Moderate.csv')\n",
    "result_Moderate = vector_model(data_Moderate, 'HS_Moderate', TfidfVectorizer, (1,1))\n",
    "result_Moderate"
   ]
  },
  {
   "cell_type": "markdown",
   "id": "757facbc-f211-4405-aa2f-523deae146d2",
   "metadata": {},
   "source": [
    "### Score for HS_Strong"
   ]
  },
  {
   "cell_type": "code",
   "execution_count": 121,
   "id": "b9145a9f-449b-409a-b372-cdace4a22607",
   "metadata": {},
   "outputs": [
    {
     "name": "stdout",
     "output_type": "stream",
     "text": [
      "Knn done -> It's classification report for HS_Strong \n",
      "               precision    recall  f1-score   support\n",
      "\n",
      "           0       0.59      0.99      0.74       144\n",
      "           1       0.98      0.29      0.44       140\n",
      "\n",
      "    accuracy                           0.64       284\n",
      "   macro avg       0.78      0.64      0.59       284\n",
      "weighted avg       0.78      0.64      0.59       284\n",
      " \n",
      "\n",
      "----------------------------------------------------------------------\n",
      "\n",
      "Lr done -> It's classification report for HS_Strong \n",
      "               precision    recall  f1-score   support\n",
      "\n",
      "           0       0.88      0.93      0.90       144\n",
      "           1       0.92      0.86      0.89       140\n",
      "\n",
      "    accuracy                           0.90       284\n",
      "   macro avg       0.90      0.90      0.90       284\n",
      "weighted avg       0.90      0.90      0.90       284\n",
      " \n",
      "\n",
      "----------------------------------------------------------------------\n",
      "\n",
      "\n",
      "svm done -> It's classification report for HS_Strong \n",
      "               precision    recall  f1-score   support\n",
      "\n",
      "           0       0.88      0.95      0.91       144\n",
      "           1       0.95      0.86      0.90       140\n",
      "\n",
      "    accuracy                           0.91       284\n",
      "   macro avg       0.91      0.91      0.91       284\n",
      "weighted avg       0.91      0.91      0.91       284\n",
      " \n",
      "\n",
      "----------------------------------------------------------------------\n",
      "\n",
      "\n",
      "cnb done -> It's classification report for HS_Strong \n",
      "               precision    recall  f1-score   support\n",
      "\n",
      "           0       0.92      0.72      0.81       144\n",
      "           1       0.77      0.94      0.84       140\n",
      "\n",
      "    accuracy                           0.83       284\n",
      "   macro avg       0.84      0.83      0.83       284\n",
      "weighted avg       0.84      0.83      0.83       284\n",
      " \n",
      "\n",
      "----------------------------------------------------------------------\n",
      "\n",
      "\n",
      "bnb done -> It's classification report for HS_Strong \n",
      "               precision    recall  f1-score   support\n",
      "\n",
      "           0       0.93      0.76      0.84       144\n",
      "           1       0.79      0.94      0.86       140\n",
      "\n",
      "    accuracy                           0.85       284\n",
      "   macro avg       0.86      0.85      0.85       284\n",
      "weighted avg       0.86      0.85      0.85       284\n",
      " \n",
      "\n",
      "----------------------------------------------------------------------\n",
      "\n",
      "\n",
      "DT done -> It's classification report for HS_Strong \n",
      "               precision    recall  f1-score   support\n",
      "\n",
      "           0       0.88      0.88      0.88       144\n",
      "           1       0.87      0.88      0.88       140\n",
      "\n",
      "    accuracy                           0.88       284\n",
      "   macro avg       0.88      0.88      0.88       284\n",
      "weighted avg       0.88      0.88      0.88       284\n",
      " \n",
      "\n",
      "----------------------------------------------------------------------\n",
      "\n",
      "\n",
      "RF done -> It's classification report for HS_Strong \n",
      "               precision    recall  f1-score   support\n",
      "\n",
      "           0       0.93      0.88      0.90       144\n",
      "           1       0.88      0.93      0.90       140\n",
      "\n",
      "    accuracy                           0.90       284\n",
      "   macro avg       0.90      0.90      0.90       284\n",
      "weighted avg       0.90      0.90      0.90       284\n",
      " \n",
      "\n",
      "----------------------------------------------------------------------\n",
      "\n",
      "F1_scores for HS_Strong Are calculated\n"
     ]
    },
    {
     "data": {
      "text/html": [
       "<div>\n",
       "<style scoped>\n",
       "    .dataframe tbody tr th:only-of-type {\n",
       "        vertical-align: middle;\n",
       "    }\n",
       "\n",
       "    .dataframe tbody tr th {\n",
       "        vertical-align: top;\n",
       "    }\n",
       "\n",
       "    .dataframe thead th {\n",
       "        text-align: right;\n",
       "    }\n",
       "</style>\n",
       "<table border=\"1\" class=\"dataframe\">\n",
       "  <thead>\n",
       "    <tr style=\"text-align: right;\">\n",
       "      <th></th>\n",
       "      <th>F1_Score - HS_Strong</th>\n",
       "    </tr>\n",
       "  </thead>\n",
       "  <tbody>\n",
       "    <tr>\n",
       "      <th>KNN</th>\n",
       "      <td>0.44</td>\n",
       "    </tr>\n",
       "    <tr>\n",
       "      <th>Logistic Regression</th>\n",
       "      <td>0.89</td>\n",
       "    </tr>\n",
       "    <tr>\n",
       "      <th>SVM</th>\n",
       "      <td>0.90</td>\n",
       "    </tr>\n",
       "    <tr>\n",
       "      <th>Complement NB</th>\n",
       "      <td>0.84</td>\n",
       "    </tr>\n",
       "    <tr>\n",
       "      <th>Bernoulli NB</th>\n",
       "      <td>0.86</td>\n",
       "    </tr>\n",
       "    <tr>\n",
       "      <th>Decision Tree</th>\n",
       "      <td>0.88</td>\n",
       "    </tr>\n",
       "    <tr>\n",
       "      <th>Random Forest</th>\n",
       "      <td>0.90</td>\n",
       "    </tr>\n",
       "  </tbody>\n",
       "</table>\n",
       "</div>"
      ],
      "text/plain": [
       "                     F1_Score - HS_Strong\n",
       "KNN                                  0.44\n",
       "Logistic Regression                  0.89\n",
       "SVM                                  0.90\n",
       "Complement NB                        0.84\n",
       "Bernoulli NB                         0.86\n",
       "Decision Tree                        0.88\n",
       "Random Forest                        0.90"
      ]
     },
     "execution_count": 121,
     "metadata": {},
     "output_type": "execute_result"
    }
   ],
   "source": [
    "# Strong\n",
    "data_Strong = pd.read_csv('DatasetsOutput/Strong.csv')\n",
    "result_Strong = vector_model(data_Strong, 'HS_Strong', TfidfVectorizer, (1,1))\n",
    "result_Strong"
   ]
  },
  {
   "cell_type": "markdown",
   "id": "07c3a3d5-6add-4871-893e-a20040136723",
   "metadata": {},
   "source": [
    "### F1-score for All Labels"
   ]
  },
  {
   "cell_type": "code",
   "execution_count": 149,
   "id": "d8811e68-1245-40dc-98fb-d17a2c9b370f",
   "metadata": {},
   "outputs": [
    {
     "data": {
      "text/html": [
       "<div>\n",
       "<style scoped>\n",
       "    .dataframe tbody tr th:only-of-type {\n",
       "        vertical-align: middle;\n",
       "    }\n",
       "\n",
       "    .dataframe tbody tr th {\n",
       "        vertical-align: top;\n",
       "    }\n",
       "\n",
       "    .dataframe thead th {\n",
       "        text-align: right;\n",
       "    }\n",
       "</style>\n",
       "<table border=\"1\" class=\"dataframe\">\n",
       "  <thead>\n",
       "    <tr style=\"text-align: right;\">\n",
       "      <th></th>\n",
       "      <th>KNN</th>\n",
       "      <th>Logistic Regression</th>\n",
       "      <th>SVM</th>\n",
       "      <th>Complement NB</th>\n",
       "      <th>Bernoulli NB</th>\n",
       "      <th>Decision Tree</th>\n",
       "      <th>Random Forest</th>\n",
       "    </tr>\n",
       "  </thead>\n",
       "  <tbody>\n",
       "    <tr>\n",
       "      <th>F1_Score - HS</th>\n",
       "      <td>0.35</td>\n",
       "      <td>0.81</td>\n",
       "      <td>0.82</td>\n",
       "      <td>0.82</td>\n",
       "      <td>0.81</td>\n",
       "      <td>0.78</td>\n",
       "      <td>0.82</td>\n",
       "    </tr>\n",
       "    <tr>\n",
       "      <th>F1_Score - Abusive</th>\n",
       "      <td>0.49</td>\n",
       "      <td>0.90</td>\n",
       "      <td>0.91</td>\n",
       "      <td>0.88</td>\n",
       "      <td>0.85</td>\n",
       "      <td>0.87</td>\n",
       "      <td>0.89</td>\n",
       "    </tr>\n",
       "    <tr>\n",
       "      <th>F1_Score - HS_Individual</th>\n",
       "      <td>0.42</td>\n",
       "      <td>0.79</td>\n",
       "      <td>0.80</td>\n",
       "      <td>0.80</td>\n",
       "      <td>0.78</td>\n",
       "      <td>0.74</td>\n",
       "      <td>0.79</td>\n",
       "    </tr>\n",
       "    <tr>\n",
       "      <th>F1_Score - HS_Group</th>\n",
       "      <td>0.26</td>\n",
       "      <td>0.78</td>\n",
       "      <td>0.79</td>\n",
       "      <td>0.79</td>\n",
       "      <td>0.80</td>\n",
       "      <td>0.75</td>\n",
       "      <td>0.79</td>\n",
       "    </tr>\n",
       "    <tr>\n",
       "      <th>F1_Score - HS_Religion</th>\n",
       "      <td>0.17</td>\n",
       "      <td>0.86</td>\n",
       "      <td>0.85</td>\n",
       "      <td>0.83</td>\n",
       "      <td>0.87</td>\n",
       "      <td>0.86</td>\n",
       "      <td>0.88</td>\n",
       "    </tr>\n",
       "    <tr>\n",
       "      <th>F1_Score - HS_Race</th>\n",
       "      <td>0.17</td>\n",
       "      <td>0.93</td>\n",
       "      <td>0.93</td>\n",
       "      <td>0.88</td>\n",
       "      <td>0.90</td>\n",
       "      <td>0.94</td>\n",
       "      <td>0.94</td>\n",
       "    </tr>\n",
       "    <tr>\n",
       "      <th>F1_Score - HS_Physical</th>\n",
       "      <td>0.23</td>\n",
       "      <td>0.77</td>\n",
       "      <td>0.77</td>\n",
       "      <td>0.84</td>\n",
       "      <td>0.81</td>\n",
       "      <td>0.88</td>\n",
       "      <td>0.85</td>\n",
       "    </tr>\n",
       "    <tr>\n",
       "      <th>F1_Score - HS_Gender</th>\n",
       "      <td>0.16</td>\n",
       "      <td>0.83</td>\n",
       "      <td>0.80</td>\n",
       "      <td>0.84</td>\n",
       "      <td>0.85</td>\n",
       "      <td>0.88</td>\n",
       "      <td>0.84</td>\n",
       "    </tr>\n",
       "    <tr>\n",
       "      <th>F1_Score - HS_Other</th>\n",
       "      <td>0.69</td>\n",
       "      <td>0.84</td>\n",
       "      <td>0.84</td>\n",
       "      <td>0.84</td>\n",
       "      <td>0.82</td>\n",
       "      <td>0.77</td>\n",
       "      <td>0.83</td>\n",
       "    </tr>\n",
       "    <tr>\n",
       "      <th>F1_Score - HS_Weak</th>\n",
       "      <td>0.28</td>\n",
       "      <td>0.78</td>\n",
       "      <td>0.78</td>\n",
       "      <td>0.78</td>\n",
       "      <td>0.77</td>\n",
       "      <td>0.74</td>\n",
       "      <td>0.78</td>\n",
       "    </tr>\n",
       "    <tr>\n",
       "      <th>F1_Score - HS_Moderate</th>\n",
       "      <td>0.20</td>\n",
       "      <td>0.75</td>\n",
       "      <td>0.74</td>\n",
       "      <td>0.77</td>\n",
       "      <td>0.78</td>\n",
       "      <td>0.70</td>\n",
       "      <td>0.75</td>\n",
       "    </tr>\n",
       "    <tr>\n",
       "      <th>F1_Score - HS_Strong</th>\n",
       "      <td>0.44</td>\n",
       "      <td>0.89</td>\n",
       "      <td>0.90</td>\n",
       "      <td>0.84</td>\n",
       "      <td>0.86</td>\n",
       "      <td>0.88</td>\n",
       "      <td>0.90</td>\n",
       "    </tr>\n",
       "  </tbody>\n",
       "</table>\n",
       "</div>"
      ],
      "text/plain": [
       "                           KNN  Logistic Regression   SVM  Complement NB  \\\n",
       "F1_Score - HS             0.35                 0.81  0.82           0.82   \n",
       "F1_Score - Abusive        0.49                 0.90  0.91           0.88   \n",
       "F1_Score - HS_Individual  0.42                 0.79  0.80           0.80   \n",
       "F1_Score - HS_Group       0.26                 0.78  0.79           0.79   \n",
       "F1_Score - HS_Religion    0.17                 0.86  0.85           0.83   \n",
       "F1_Score - HS_Race        0.17                 0.93  0.93           0.88   \n",
       "F1_Score - HS_Physical    0.23                 0.77  0.77           0.84   \n",
       "F1_Score - HS_Gender      0.16                 0.83  0.80           0.84   \n",
       "F1_Score - HS_Other       0.69                 0.84  0.84           0.84   \n",
       "F1_Score - HS_Weak        0.28                 0.78  0.78           0.78   \n",
       "F1_Score - HS_Moderate    0.20                 0.75  0.74           0.77   \n",
       "F1_Score - HS_Strong      0.44                 0.89  0.90           0.84   \n",
       "\n",
       "                          Bernoulli NB  Decision Tree  Random Forest  \n",
       "F1_Score - HS                     0.81           0.78           0.82  \n",
       "F1_Score - Abusive                0.85           0.87           0.89  \n",
       "F1_Score - HS_Individual          0.78           0.74           0.79  \n",
       "F1_Score - HS_Group               0.80           0.75           0.79  \n",
       "F1_Score - HS_Religion            0.87           0.86           0.88  \n",
       "F1_Score - HS_Race                0.90           0.94           0.94  \n",
       "F1_Score - HS_Physical            0.81           0.88           0.85  \n",
       "F1_Score - HS_Gender              0.85           0.88           0.84  \n",
       "F1_Score - HS_Other               0.82           0.77           0.83  \n",
       "F1_Score - HS_Weak                0.77           0.74           0.78  \n",
       "F1_Score - HS_Moderate            0.78           0.70           0.75  \n",
       "F1_Score - HS_Strong              0.86           0.88           0.90  "
      ]
     },
     "execution_count": 149,
     "metadata": {},
     "output_type": "execute_result"
    }
   ],
   "source": [
    "# Visualization of F1-Score of all categories\n",
    "result = pd.concat([result_HS, result_Abusive, result_Individual, result_Group, result_Religion, result_Race, result_Physical, result_Gender, result_Other, result_Weak, result_Moderate, result_Strong], axis=1)\n",
    "result = result.transpose()\n",
    "result.head(12)"
   ]
  },
  {
   "cell_type": "markdown",
   "id": "82aa7683-807f-4988-ba6b-bf7cac3c71bc",
   "metadata": {},
   "source": [
    "## Prediction - picking logistic regression model from above graph"
   ]
  },
  {
   "cell_type": "code",
   "execution_count": 152,
   "id": "a8c901ed-1d77-41d8-a651-a16c4d88d49a",
   "metadata": {},
   "outputs": [],
   "source": [
    "example1 = ['Wahyu goblok gabisa mimpin negara gimana indonesia mau maju tolol anjing']"
   ]
  },
  {
   "cell_type": "markdown",
   "id": "ebafd82c-7b32-4336-a53d-c10d16ff0b51",
   "metadata": {},
   "source": [
    "### HS"
   ]
  },
  {
   "cell_type": "code",
   "execution_count": 157,
   "id": "00b73cc6-4ec7-470e-a272-d32426f0a3eb",
   "metadata": {},
   "outputs": [
    {
     "data": {
      "text/plain": [
       "array([1, 0, 0, 0, 0, 0, 0, 0, 1, 1, 0, 0, 1, 0, 1, 0, 0, 0, 0, 0, 0, 1,\n",
       "       0, 0, 1, 0, 0, 0, 1, 1, 1, 0, 1, 0, 1, 0, 0, 0, 0, 1, 1, 0, 1, 0,\n",
       "       1, 1, 1, 0, 1, 0, 0, 0, 1, 0, 1, 0, 0, 0, 1, 0, 0, 0, 0, 1, 1, 0,\n",
       "       0, 1, 1, 0, 0, 0, 1, 0, 0, 1, 1, 1, 1, 0, 1, 1, 0, 0, 1, 1, 0, 1,\n",
       "       1, 0, 0, 0, 1, 0, 1, 0, 0, 0, 0, 0], dtype=int64)"
      ]
     },
     "execution_count": 157,
     "metadata": {},
     "output_type": "execute_result"
    }
   ],
   "source": [
    "x = df_HS.Tweet.fillna(' ')\n",
    "y = df_HS['HS']\n",
    "x_train, x_test, y_train, y_test = train_test_split(x, y, test_size=0.3, random_state=42)\n",
    "tfvHS = TfidfVectorizer(ngram_range=(1,1), stop_words=id_stopword_dict['stopword'].tolist())\n",
    "x_train_scal = tfvHS.fit_transform(x_train)\n",
    "x_test_scal = tfvHS.transform(x_test)\n",
    "lrHS = LogisticRegression()\n",
    "lrHS.fit(x_train_scal, y_train)\n",
    "lrHS.predict(x_test_scal)[:100]"
   ]
  },
  {
   "cell_type": "code",
   "execution_count": 159,
   "id": "c39856f9-6b48-4af9-b7e9-c8cec60e8424",
   "metadata": {},
   "outputs": [
    {
     "name": "stdout",
     "output_type": "stream",
     "text": [
      "HS\n"
     ]
    }
   ],
   "source": [
    "example1_preprocessed = [preprocess(text) for text in example1]\n",
    "example1_transform = tfvHS.transform(example1_preprocessed)\n",
    "zero=lrHS.predict_proba(example1_transform)[:,0][0]\n",
    "one=lrHS.predict_proba(example1_transform)[:,1][0]\n",
    "if (zero>=0.42 and one<=0.58) and (zero<=0.58 and one>=0.42):\n",
    "    print('Neutral')\n",
    "elif one>0.58:\n",
    "    print('HS')\n",
    "else: \n",
    "    print('Not HS')"
   ]
  },
  {
   "cell_type": "markdown",
   "id": "4c726d63-8503-4b66-91b8-4d6d9826b045",
   "metadata": {},
   "source": [
    "### Abusive"
   ]
  },
  {
   "cell_type": "code",
   "execution_count": 164,
   "id": "a9388d33-2ccb-43f0-aa8a-d6462e5579fa",
   "metadata": {},
   "outputs": [
    {
     "data": {
      "text/plain": [
       "array([0, 0, 0, 1, 0, 0, 1, 0, 0, 0, 1, 0, 0, 0, 1, 0, 0, 1, 0, 0, 0, 1,\n",
       "       0, 0, 0, 0, 0, 0, 1, 1, 0, 1, 0, 1, 1, 0, 1, 0, 0, 1, 1, 1, 0, 0,\n",
       "       0, 0, 0, 1, 0, 0, 0, 1, 0, 0, 1, 1, 0, 0, 1, 1, 0, 0, 0, 0, 0, 0,\n",
       "       0, 0, 1, 1, 1, 0, 0, 0, 1, 1, 0, 1, 1, 0, 0, 1, 1, 0, 1, 0, 0, 1,\n",
       "       1, 1, 1, 1, 1, 0, 1, 0, 1, 1, 0, 0], dtype=int64)"
      ]
     },
     "execution_count": 164,
     "metadata": {},
     "output_type": "execute_result"
    }
   ],
   "source": [
    "x = df_Abusive.Tweet.fillna(' ')\n",
    "y = df_Abusive['Abusive']\n",
    "x_train, x_test, y_train, y_test = train_test_split(x, y, test_size=0.3, random_state=42)\n",
    "tfvAbusive = TfidfVectorizer(ngram_range=(1,1), stop_words=id_stopword_dict['stopword'].tolist())\n",
    "x_train_scal = tfvAbusive.fit_transform(x_train)\n",
    "x_test_scal = tfvAbusive.transform(x_test)\n",
    "lrAbusive = LogisticRegression()\n",
    "lrAbusive.fit(x_train_scal, y_train)\n",
    "lrAbusive.predict(x_test_scal)[:100]"
   ]
  },
  {
   "cell_type": "code",
   "execution_count": 166,
   "id": "ab41d5b3-08e5-48d3-9bad-91fa22edf910",
   "metadata": {},
   "outputs": [
    {
     "name": "stdout",
     "output_type": "stream",
     "text": [
      "Abusive\n"
     ]
    }
   ],
   "source": [
    "example1_preprocessed = [preprocess(text) for text in example1]\n",
    "example1_transform = tfvAbusive.transform(example1_preprocessed)\n",
    "zero=lrAbusive.predict_proba(example1_transform)[:,0][0]\n",
    "one=lrAbusive.predict_proba(example1_transform)[:,1][0]\n",
    "if (zero>=0.42 and one<=0.58) and (zero<=0.58 and one>=0.42):\n",
    "    print('Neutral')\n",
    "elif one>0.58:\n",
    "    print('Abusive')\n",
    "else: \n",
    "    print('Not Abusive')"
   ]
  },
  {
   "cell_type": "markdown",
   "id": "32eef51e-e619-4ec9-850e-f9fd0872815a",
   "metadata": {},
   "source": [
    "### HS_Individual"
   ]
  },
  {
   "cell_type": "code",
   "execution_count": 169,
   "id": "178f0435-7b00-4903-82b4-9569d0ad0e83",
   "metadata": {},
   "outputs": [
    {
     "data": {
      "text/plain": [
       "array([0, 0, 0, 0, 0, 0, 0, 0, 0, 0, 0, 0, 0, 0, 0, 0, 0, 0, 0, 0, 0, 0,\n",
       "       0, 0, 0, 0, 0, 0, 0, 1, 0, 0, 0, 0, 1, 0, 0, 0, 0, 1, 0, 0, 1, 0,\n",
       "       1, 1, 0, 0, 1, 0, 0, 0, 1, 0, 1, 0, 0, 0, 0, 0, 0, 0, 0, 0, 0, 0,\n",
       "       0, 1, 0, 0, 0, 0, 0, 0, 0, 0, 0, 0, 0, 0, 1, 0, 0, 0, 0, 0, 0, 0,\n",
       "       0, 0, 0, 0, 1, 0, 1, 0, 0, 0, 0, 0], dtype=int64)"
      ]
     },
     "execution_count": 169,
     "metadata": {},
     "output_type": "execute_result"
    }
   ],
   "source": [
    "x = df_Individual.Tweet.fillna(' ')\n",
    "y = df_Individual['HS_Individual']\n",
    "x_train, x_test, y_train, y_test = train_test_split(x, y, test_size=0.3, random_state=42)\n",
    "tfvIndividual = TfidfVectorizer(ngram_range=(1,1), stop_words=id_stopword_dict['stopword'].tolist())\n",
    "x_train_scal = tfvIndividual.fit_transform(x_train)\n",
    "x_test_scal = tfvIndividual.transform(x_test)\n",
    "lrIndividual = LogisticRegression()\n",
    "lrIndividual.fit(x_train_scal, y_train)\n",
    "lrIndividual.predict(x_test_scal)[:100]"
   ]
  },
  {
   "cell_type": "code",
   "execution_count": 171,
   "id": "feef3a4a-93e3-454a-83c3-87fb92703d44",
   "metadata": {},
   "outputs": [
    {
     "name": "stdout",
     "output_type": "stream",
     "text": [
      "HS_Individual\n"
     ]
    }
   ],
   "source": [
    "example1_preprocessed = [preprocess(text) for text in example1]\n",
    "example1_transform = tfvIndividual.transform(example1_preprocessed)\n",
    "zero=lrIndividual.predict_proba(example1_transform)[:,0][0]\n",
    "one=lrIndividual.predict_proba(example1_transform)[:,1][0]\n",
    "if (zero>=0.42 and one<=0.58) and (zero<=0.58 and one>=0.42):\n",
    "    print('Neutral')\n",
    "elif one>0.58:\n",
    "    print('HS_Individual')\n",
    "else: \n",
    "    print('Not HS_Individual')"
   ]
  },
  {
   "cell_type": "markdown",
   "id": "2aa364db-e0ca-44da-a5d1-60b573c4ec86",
   "metadata": {},
   "source": [
    "### HS_Group"
   ]
  },
  {
   "cell_type": "code",
   "execution_count": 174,
   "id": "0770db7a-4c85-4a29-805c-7ad59cac76c0",
   "metadata": {},
   "outputs": [
    {
     "data": {
      "text/plain": [
       "array([1, 0, 0, 0, 0, 0, 0, 0, 0, 1, 0, 0, 0, 0, 0, 0, 0, 0, 0, 0, 0, 0,\n",
       "       0, 0, 0, 0, 0, 0, 1, 0, 0, 0, 0, 0, 1, 0, 0, 0, 0, 0, 1, 0, 0, 0,\n",
       "       0, 0, 0, 0, 0, 0, 0, 0, 0, 0, 0, 0, 0, 0, 0, 0, 0, 0, 0, 0, 1, 0,\n",
       "       0, 0, 0, 0, 0, 0, 1, 0, 0, 1, 0, 0, 0, 0, 0, 0, 0, 0, 0, 0, 0, 0,\n",
       "       1, 0, 0, 0, 0, 0, 0, 0, 0, 0, 0, 0], dtype=int64)"
      ]
     },
     "execution_count": 174,
     "metadata": {},
     "output_type": "execute_result"
    }
   ],
   "source": [
    "x = df_Group.Tweet.fillna(' ')\n",
    "y = df_Group['HS_Group']\n",
    "x_train, x_test, y_train, y_test = train_test_split(x, y, test_size=0.3, random_state=42)\n",
    "tfvGroup = TfidfVectorizer(ngram_range=(1,1), stop_words=id_stopword_dict['stopword'].tolist())\n",
    "x_train_scal = tfvGroup.fit_transform(x_train)\n",
    "x_test_scal = tfvGroup.transform(x_test)\n",
    "lrGroup = LogisticRegression()\n",
    "lrGroup.fit(x_train_scal, y_train)\n",
    "lrGroup.predict(x_test_scal)[:100]"
   ]
  },
  {
   "cell_type": "code",
   "execution_count": 176,
   "id": "2fb69dc2-c0eb-4f0a-a7d2-54e94d36ae78",
   "metadata": {},
   "outputs": [
    {
     "name": "stdout",
     "output_type": "stream",
     "text": [
      "Not HS_Group\n"
     ]
    }
   ],
   "source": [
    "example1_preprocessed = [preprocess(text) for text in example1]\n",
    "example1_transform = tfvGroup.transform(example1_preprocessed)\n",
    "zero=lrGroup.predict_proba(example1_transform)[:,0][0]\n",
    "one=lrGroup.predict_proba(example1_transform)[:,1][0]\n",
    "if (zero>=0.42 and one<=0.58) and (zero<=0.58 and one>=0.42):\n",
    "    print('Neutral')\n",
    "elif one>0.58:\n",
    "    print('HS_Group')\n",
    "else: \n",
    "    print('Not HS_Group')"
   ]
  },
  {
   "cell_type": "markdown",
   "id": "be0ac1ca-2068-412b-95c8-5a159cbde9c1",
   "metadata": {},
   "source": [
    "### HS_Religion"
   ]
  },
  {
   "cell_type": "code",
   "execution_count": 179,
   "id": "65dfc628-6d52-47a3-ba4e-4e1b44847230",
   "metadata": {},
   "outputs": [
    {
     "data": {
      "text/plain": [
       "array([1, 0, 0, 0, 0, 0, 0, 0, 0, 0, 0, 0, 0, 0, 0, 0, 0, 0, 0, 0, 0, 0,\n",
       "       0, 0, 0, 0, 0, 0, 0, 0, 0, 0, 0, 0, 1, 0, 0, 0, 0, 0, 0, 0, 0, 0,\n",
       "       0, 0, 0, 0, 0, 0, 0, 0, 0, 0, 0, 0, 0, 0, 0, 0, 0, 0, 0, 0, 0, 0,\n",
       "       0, 1, 0, 0, 0, 0, 0, 0, 0, 0, 0, 0, 0, 0, 0, 0, 0, 0, 0, 0, 0, 0,\n",
       "       0, 0, 0, 0, 0, 0, 0, 0, 0, 0, 0, 0], dtype=int64)"
      ]
     },
     "execution_count": 179,
     "metadata": {},
     "output_type": "execute_result"
    }
   ],
   "source": [
    "x = df_Religion.Tweet.fillna(' ')\n",
    "y = df_Religion['HS_Religion']\n",
    "x_train, x_test, y_train, y_test = train_test_split(x, y, test_size=0.3, random_state=42)\n",
    "tfvReligion = TfidfVectorizer(ngram_range=(1,1), stop_words=id_stopword_dict['stopword'].tolist())\n",
    "x_train_scal = tfvReligion.fit_transform(x_train)\n",
    "x_test_scal = tfvReligion.transform(x_test)\n",
    "lrReligion = LogisticRegression()\n",
    "lrReligion.fit(x_train_scal, y_train)\n",
    "lrReligion.predict(x_test_scal)[:100]"
   ]
  },
  {
   "cell_type": "code",
   "execution_count": 181,
   "id": "29c5f47a-eae5-42e5-9b7e-d9d4a9acc695",
   "metadata": {},
   "outputs": [
    {
     "name": "stdout",
     "output_type": "stream",
     "text": [
      "Not HS_Religion\n"
     ]
    }
   ],
   "source": [
    "example1_preprocessed = [preprocess(text) for text in example1]\n",
    "example1_transform = tfvReligion.transform(example1_preprocessed)\n",
    "zero=lrReligion.predict_proba(example1_transform)[:,0][0]\n",
    "one=lrReligion.predict_proba(example1_transform)[:,1][0]\n",
    "if (zero>=0.42 and one<=0.58) and (zero<=0.58 and one>=0.42):\n",
    "    print('Neutral')\n",
    "elif one>0.58:\n",
    "    print('HS_Religion')\n",
    "else: \n",
    "    print('Not HS_Religion')"
   ]
  },
  {
   "cell_type": "markdown",
   "id": "bb52003e-5dff-4365-810a-5478242695c8",
   "metadata": {},
   "source": [
    "### HS_Race"
   ]
  },
  {
   "cell_type": "code",
   "execution_count": 188,
   "id": "2eb0b0bc-b7cd-4d10-b12e-93d9c4fa18b8",
   "metadata": {},
   "outputs": [
    {
     "data": {
      "text/plain": [
       "array([0, 0, 0, 0, 0, 0, 0, 0, 0, 0, 0, 0, 0, 0, 0, 0, 0, 0, 0, 0, 0, 0,\n",
       "       0, 0, 0, 0, 0, 0, 0, 0, 0, 0, 0, 0, 0, 0, 0, 0, 0, 0, 0, 0, 0, 0,\n",
       "       0, 0, 0, 0, 0, 0, 0, 0, 0, 0, 0, 0, 0, 0, 0, 0, 0, 0, 0, 0, 0, 0,\n",
       "       0, 0, 0, 0, 0, 0, 0, 0, 0, 0, 0, 0, 0, 0, 0, 0, 0, 0, 0, 0, 0, 0,\n",
       "       1, 0, 0, 0, 0, 0, 0, 0, 0, 0, 0, 0], dtype=int64)"
      ]
     },
     "execution_count": 188,
     "metadata": {},
     "output_type": "execute_result"
    }
   ],
   "source": [
    "x = df_Race.Tweet.fillna(' ')\n",
    "y = df_Race['HS_Race']\n",
    "x_train, x_test, y_train, y_test = train_test_split(x, y, test_size=0.3, random_state=42)\n",
    "tfvRace = TfidfVectorizer(ngram_range=(1,1), stop_words=id_stopword_dict['stopword'].tolist())\n",
    "x_train_scal = tfvRace.fit_transform(x_train)\n",
    "x_test_scal = tfvRace.transform(x_test)\n",
    "lrRace = LogisticRegression()\n",
    "lrRace.fit(x_train_scal, y_train)\n",
    "lrRace.predict(x_test_scal)[:100]"
   ]
  },
  {
   "cell_type": "code",
   "execution_count": 190,
   "id": "a0f458e6-9907-4210-af58-4f272ea949d4",
   "metadata": {},
   "outputs": [
    {
     "name": "stdout",
     "output_type": "stream",
     "text": [
      "Not HS_Race\n"
     ]
    }
   ],
   "source": [
    "example1_preprocessed = [preprocess(text) for text in example1]\n",
    "example1_transform = tfvRace.transform(example1_preprocessed)\n",
    "zero=lrRace.predict_proba(example1_transform)[:,0][0]\n",
    "one=lrRace.predict_proba(example1_transform)[:,1][0]\n",
    "if (zero>=0.42 and one<=0.58) and (zero<=0.58 and one>=0.42):\n",
    "    print('Neutral')\n",
    "elif one>0.58:\n",
    "    print('HS_Race')\n",
    "else: \n",
    "    print('Not HS_Race')"
   ]
  },
  {
   "cell_type": "markdown",
   "id": "4ff36129-dc3e-40ae-8585-4ec22b1a1c2b",
   "metadata": {},
   "source": [
    "### HS_Gender"
   ]
  },
  {
   "cell_type": "code",
   "execution_count": 195,
   "id": "26476c48-dcea-455b-9597-d2d9ed261c25",
   "metadata": {},
   "outputs": [
    {
     "data": {
      "text/plain": [
       "array([0, 0, 0, 0, 0, 0, 0, 0, 0, 0, 0, 0, 0, 0, 0, 0, 0, 0, 0, 0, 0, 0,\n",
       "       0, 0, 0, 0, 0, 0, 0, 1, 0, 0, 0, 0, 0, 0, 0, 0, 0, 0, 0, 0, 0, 0,\n",
       "       0, 0, 0, 0, 0, 0, 0, 0, 0, 0, 0, 0, 0, 0, 0, 0, 0, 0, 0, 0, 0, 0,\n",
       "       0, 0, 0, 0, 0, 0, 0, 0, 0, 0, 0, 0, 0, 0, 0, 0, 0, 0, 0, 0, 0, 0,\n",
       "       0, 0, 0, 0, 0, 0, 0, 0, 0, 0, 0, 0], dtype=int64)"
      ]
     },
     "execution_count": 195,
     "metadata": {},
     "output_type": "execute_result"
    }
   ],
   "source": [
    "x = df_Gender.Tweet.fillna(' ')\n",
    "y = df_Gender['HS_Gender']\n",
    "x_train, x_test, y_train, y_test = train_test_split(x, y, test_size=0.3, random_state=42)\n",
    "tfvGender = TfidfVectorizer(ngram_range=(1,1), stop_words=id_stopword_dict['stopword'].tolist())\n",
    "x_train_scal = tfvGender.fit_transform(x_train)\n",
    "x_test_scal = tfvGender.transform(x_test)\n",
    "lrGender = LogisticRegression()\n",
    "lrGender.fit(x_train_scal, y_train)\n",
    "lrGender.predict(x_test_scal)[:100]"
   ]
  },
  {
   "cell_type": "code",
   "execution_count": 197,
   "id": "d143f07c-3763-4405-9305-4448c2df225a",
   "metadata": {},
   "outputs": [
    {
     "name": "stdout",
     "output_type": "stream",
     "text": [
      "Not HS_Gender\n"
     ]
    }
   ],
   "source": [
    "example1_preprocessed = [preprocess(text) for text in example1]\n",
    "example1_transform = tfvGender.transform(example1_preprocessed)\n",
    "zero=lrGender.predict_proba(example1_transform)[:,0][0]\n",
    "one=lrGender.predict_proba(example1_transform)[:,1][0]\n",
    "if (zero>=0.42 and one<=0.58) and (zero<=0.58 and one>=0.42):\n",
    "    print('Neutral')\n",
    "elif one>0.58:\n",
    "    print('HS_Gender')\n",
    "else: \n",
    "    print('Not HS_Gender')"
   ]
  },
  {
   "cell_type": "markdown",
   "id": "77ed8d9e-0058-4294-8643-92d359779384",
   "metadata": {},
   "source": [
    "### HS_Other"
   ]
  },
  {
   "cell_type": "code",
   "execution_count": 200,
   "id": "6b79c389-dcc3-4226-8317-33c5ac7ea13a",
   "metadata": {},
   "outputs": [
    {
     "data": {
      "text/plain": [
       "array([0, 0, 0, 0, 0, 0, 0, 0, 0, 0, 0, 0, 0, 0, 1, 0, 0, 0, 0, 0, 0, 0,\n",
       "       0, 0, 1, 0, 0, 0, 1, 0, 1, 0, 0, 0, 1, 0, 0, 0, 0, 0, 1, 0, 1, 0,\n",
       "       1, 1, 0, 0, 1, 0, 0, 0, 1, 0, 1, 0, 0, 0, 1, 0, 0, 0, 0, 0, 1, 0,\n",
       "       0, 0, 0, 0, 0, 0, 1, 0, 0, 1, 0, 1, 1, 0, 1, 1, 0, 0, 1, 0, 0, 0,\n",
       "       0, 0, 0, 0, 0, 0, 0, 0, 0, 0, 0, 0], dtype=int64)"
      ]
     },
     "execution_count": 200,
     "metadata": {},
     "output_type": "execute_result"
    }
   ],
   "source": [
    "x = df_Other.Tweet.fillna(' ')\n",
    "y = df_Other['HS_Other']\n",
    "x_train, x_test, y_train, y_test = train_test_split(x, y, test_size=0.3, random_state=42)\n",
    "tfvOther = TfidfVectorizer(ngram_range=(1,1), stop_words=id_stopword_dict['stopword'].tolist())\n",
    "x_train_scal = tfvOther.fit_transform(x_train)\n",
    "x_test_scal = tfvOther.transform(x_test)\n",
    "lrOther = LogisticRegression()\n",
    "lrOther.fit(x_train_scal, y_train)\n",
    "lrOther.predict(x_test_scal)[:100]"
   ]
  },
  {
   "cell_type": "code",
   "execution_count": 202,
   "id": "e36ace60-323b-4454-bacd-6451b45f2573",
   "metadata": {},
   "outputs": [
    {
     "name": "stdout",
     "output_type": "stream",
     "text": [
      "HS_Other\n"
     ]
    }
   ],
   "source": [
    "example1_preprocessed = [preprocess(text) for text in example1]\n",
    "example1_transform = tfvOther.transform(example1_preprocessed)\n",
    "zero=lrOther.predict_proba(example1_transform)[:,0][0]\n",
    "one=lrOther.predict_proba(example1_transform)[:,1][0]\n",
    "if (zero>=0.42 and one<=0.58) and (zero<=0.58 and one>=0.42):\n",
    "    print('Neutral')\n",
    "elif one>0.58:\n",
    "    print('HS_Other')\n",
    "else: \n",
    "    print('Not HS_Other')"
   ]
  },
  {
   "cell_type": "markdown",
   "id": "dd5b77f6-ac79-4d73-b49c-9660c418c0d8",
   "metadata": {},
   "source": [
    "### HS_Weak"
   ]
  },
  {
   "cell_type": "code",
   "execution_count": 205,
   "id": "e5f8ba1c-8550-4d9d-a3f8-c1698502ef61",
   "metadata": {},
   "outputs": [
    {
     "data": {
      "text/plain": [
       "array([0, 0, 0, 0, 0, 0, 0, 0, 0, 0, 0, 0, 0, 0, 0, 0, 0, 0, 0, 0, 0, 0,\n",
       "       0, 0, 0, 0, 0, 0, 0, 1, 0, 0, 0, 0, 1, 0, 0, 0, 0, 1, 0, 0, 1, 0,\n",
       "       1, 1, 0, 0, 1, 0, 0, 0, 0, 0, 1, 0, 0, 0, 0, 0, 0, 0, 0, 0, 0, 0,\n",
       "       0, 0, 0, 0, 0, 0, 0, 0, 0, 0, 0, 0, 0, 0, 1, 0, 0, 0, 0, 0, 0, 0,\n",
       "       0, 0, 0, 0, 0, 0, 1, 0, 0, 0, 0, 0], dtype=int64)"
      ]
     },
     "execution_count": 205,
     "metadata": {},
     "output_type": "execute_result"
    }
   ],
   "source": [
    "x = df_Weak.Tweet.fillna(' ')\n",
    "y = df_Weak['HS_Weak']\n",
    "x_train, x_test, y_train, y_test = train_test_split(x, y, test_size=0.3, random_state=42)\n",
    "tfvWeak = TfidfVectorizer(ngram_range=(1,1), stop_words=id_stopword_dict['stopword'].tolist())\n",
    "x_train_scal = tfvWeak.fit_transform(x_train)\n",
    "x_test_scal = tfvWeak.transform(x_test)\n",
    "lrWeak = LogisticRegression()\n",
    "lrWeak.fit(x_train_scal, y_train)\n",
    "lrWeak.predict(x_test_scal)[:100]"
   ]
  },
  {
   "cell_type": "code",
   "execution_count": 207,
   "id": "44951163-3844-4017-addf-cff0ab7d1a59",
   "metadata": {},
   "outputs": [
    {
     "name": "stdout",
     "output_type": "stream",
     "text": [
      "HS_Weak\n"
     ]
    }
   ],
   "source": [
    "example1_preprocessed = [preprocess(text) for text in example1]\n",
    "example1_transform = tfvWeak.transform(example1_preprocessed)\n",
    "zero=lrWeak.predict_proba(example1_transform)[:,0][0]\n",
    "one=lrWeak.predict_proba(example1_transform)[:,1][0]\n",
    "if (zero>=0.42 and one<=0.58) and (zero<=0.58 and one>=0.42):\n",
    "    print('Neutral')\n",
    "elif one>0.58:\n",
    "    print('HS_Weak')\n",
    "else: \n",
    "    print('Not HS_Weak')"
   ]
  },
  {
   "cell_type": "markdown",
   "id": "c0d4b004-f1a8-4bc7-a97f-9388f87ef498",
   "metadata": {},
   "source": [
    "### HS_Moderate"
   ]
  },
  {
   "cell_type": "code",
   "execution_count": 212,
   "id": "a78e85da-02e9-482d-9fa8-86d2c847fa46",
   "metadata": {},
   "outputs": [
    {
     "data": {
      "text/plain": [
       "array([0, 0, 0, 0, 0, 0, 0, 0, 0, 0, 0, 0, 0, 0, 0, 0, 0, 0, 0, 0, 0, 0,\n",
       "       0, 0, 0, 0, 0, 0, 1, 0, 0, 0, 0, 0, 1, 0, 0, 0, 0, 0, 1, 0, 0, 0,\n",
       "       0, 0, 0, 0, 0, 0, 0, 0, 0, 0, 0, 0, 0, 0, 0, 0, 0, 0, 0, 0, 0, 0,\n",
       "       0, 0, 0, 0, 0, 0, 0, 0, 0, 1, 0, 0, 0, 0, 0, 0, 0, 0, 0, 0, 0, 0,\n",
       "       1, 0, 0, 0, 0, 0, 0, 0, 0, 0, 0, 0], dtype=int64)"
      ]
     },
     "execution_count": 212,
     "metadata": {},
     "output_type": "execute_result"
    }
   ],
   "source": [
    "x = df_Moderate.Tweet.fillna(' ')\n",
    "y = df_Moderate['HS_Moderate']\n",
    "x_train, x_test, y_train, y_test = train_test_split(x, y, test_size=0.3, random_state=42)\n",
    "tfvModerate = TfidfVectorizer(ngram_range=(1,1), stop_words=id_stopword_dict['stopword'].tolist())\n",
    "x_train_scal = tfvModerate.fit_transform(x_train)\n",
    "x_test_scal = tfvModerate.transform(x_test)\n",
    "lrModerate = LogisticRegression()\n",
    "lrModerate.fit(x_train_scal, y_train)\n",
    "lrModerate.predict(x_test_scal)[:100]"
   ]
  },
  {
   "cell_type": "code",
   "execution_count": 214,
   "id": "1b77b657-2332-4e95-ab7b-855b3e11681d",
   "metadata": {},
   "outputs": [
    {
     "name": "stdout",
     "output_type": "stream",
     "text": [
      "Not HS_Moderate\n"
     ]
    }
   ],
   "source": [
    "example1_preprocessed = [preprocess(text) for text in example1]\n",
    "example1_transform = tfvModerate.transform(example1_preprocessed)\n",
    "zero=lrModerate.predict_proba(example1_transform)[:,0][0]\n",
    "one=lrModerate.predict_proba(example1_transform)[:,1][0]\n",
    "if (zero>=0.42 and one<=0.58) and (zero<=0.58 and one>=0.42):\n",
    "    print('Neutral')\n",
    "elif one>0.58:\n",
    "    print('HS_Moderate')\n",
    "else: \n",
    "    print('Not HS_Moderate')"
   ]
  },
  {
   "cell_type": "markdown",
   "id": "fbf9450f-84d5-40b6-962e-43768bbad20a",
   "metadata": {},
   "source": [
    "### HS_Strong"
   ]
  },
  {
   "cell_type": "code",
   "execution_count": 217,
   "id": "c3f00948-9b45-43bd-8f2c-01c090f00746",
   "metadata": {},
   "outputs": [
    {
     "data": {
      "text/plain": [
       "array([0, 0, 0, 0, 0, 0, 0, 0, 0, 1, 0, 0, 0, 0, 0, 0, 0, 0, 0, 0, 0, 0,\n",
       "       0, 0, 0, 0, 0, 0, 0, 0, 0, 0, 0, 0, 0, 0, 0, 0, 0, 0, 0, 0, 0, 0,\n",
       "       0, 0, 0, 0, 0, 0, 0, 0, 0, 0, 0, 0, 0, 0, 0, 0, 0, 0, 0, 0, 0, 0,\n",
       "       0, 0, 0, 0, 0, 0, 1, 0, 0, 0, 0, 0, 0, 0, 0, 0, 0, 0, 0, 0, 0, 0,\n",
       "       0, 0, 0, 0, 0, 0, 0, 0, 0, 0, 0, 0], dtype=int64)"
      ]
     },
     "execution_count": 217,
     "metadata": {},
     "output_type": "execute_result"
    }
   ],
   "source": [
    "x = df_Strong.Tweet.fillna(' ')\n",
    "y = df_Strong['HS_Strong']\n",
    "x_train, x_test, y_train, y_test = train_test_split(x, y, test_size=0.3, random_state=42)\n",
    "tfvStrong = TfidfVectorizer(ngram_range=(1,1), stop_words=id_stopword_dict['stopword'].tolist())\n",
    "x_train_scal = tfvStrong.fit_transform(x_train)\n",
    "x_test_scal = tfvStrong.transform(x_test)\n",
    "lrStrong = LogisticRegression()\n",
    "lrStrong.fit(x_train_scal, y_train)\n",
    "lrStrong.predict(x_test_scal)[:100]"
   ]
  },
  {
   "cell_type": "code",
   "execution_count": 219,
   "id": "ca4ae139-28f7-410d-a470-c438b5258fe5",
   "metadata": {},
   "outputs": [
    {
     "name": "stdout",
     "output_type": "stream",
     "text": [
      "Not HS_Strong\n"
     ]
    }
   ],
   "source": [
    "example1_preprocessed = [preprocess(text) for text in example1]\n",
    "example1_transform = tfvStrong.transform(example1_preprocessed)\n",
    "zero=lrStrong.predict_proba(example1_transform)[:,0][0]\n",
    "one=lrStrong.predict_proba(example1_transform)[:,1][0]\n",
    "if (zero>=0.42 and one<=0.58) and (zero<=0.58 and one>=0.42):\n",
    "    print('Neutral')\n",
    "elif one>0.58:\n",
    "    print('HS_Strong')\n",
    "else: \n",
    "    print('Not HS_Strong')"
   ]
  }
 ],
 "metadata": {
  "kernelspec": {
   "display_name": "Python 3 (ipykernel)",
   "language": "python",
   "name": "python3"
  },
  "language_info": {
   "codemirror_mode": {
    "name": "ipython",
    "version": 3
   },
   "file_extension": ".py",
   "mimetype": "text/x-python",
   "name": "python",
   "nbconvert_exporter": "python",
   "pygments_lexer": "ipython3",
   "version": "3.11.8"
  }
 },
 "nbformat": 4,
 "nbformat_minor": 5
}
